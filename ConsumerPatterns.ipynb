{
 "cells": [
  {
   "cell_type": "markdown",
   "metadata": {},
   "source": [
    "### Data preprocessing, creating dummies and descriptions of the dataset, outlier manual inspection, train_test dataset split"
   ]
  },
  {
   "cell_type": "code",
   "execution_count": 2,
   "metadata": {},
   "outputs": [],
   "source": [
    "#Importing the required packages for the assignment.\n",
    "import os\n",
    "import pandas as pd\n",
    "import numpy as np\n",
    "import matplotlib.pyplot as plt\n",
    "from sklearn.preprocessing import StandardScaler, MinMaxScaler\n",
    "from sklearn.neighbors import KNeighborsClassifier\n",
    "from sklearn.svm import LinearSVC\n",
    "from sklearn.linear_model import LogisticRegression\n",
    "from sklearn.model_selection import GridSearchCV\n",
    "from sklearn.model_selection import train_test_split\n",
    "from sklearn.model_selection import cross_val_score\n",
    "from sklearn.pipeline import Pipeline\n",
    "from sklearn.pipeline import make_pipeline\n",
    "from sklearn.metrics import classification_report\n",
    "from sklearn.tree import DecisionTreeClassifier \n",
    "from sklearn.ensemble import RandomForestClassifier\n",
    "from sklearn.metrics import confusion_matrix\n",
    "from sklearn.neural_network import MLPClassifier\n",
    "from keras.models import Sequential\n",
    "from imblearn.under_sampling import EditedNearestNeighbours\n",
    "from imblearn.pipeline import make_pipeline\n",
    "from sklearn.model_selection import cross_validate\n",
    "from sklearn.ensemble import IsolationForest \n",
    "from scipy import stats\n",
    "from sklearn.preprocessing import PolynomialFeatures\n",
    "from sklearn.model_selection import cross_validate\n",
    "import lightgbm as lgb\n",
    "from sklearn.cluster import AgglomerativeClustering\n",
    "from sklearn.decomposition import PCA\n",
    "from sklearn.cluster import KMeans, DBSCAN, AgglomerativeClustering"
   ]
  },
  {
   "cell_type": "markdown",
   "metadata": {},
   "source": [
    "### Import and initial inspection"
   ]
  },
  {
   "cell_type": "code",
   "execution_count": 3,
   "metadata": {},
   "outputs": [
    {
     "data": {
      "text/html": [
       "<div>\n",
       "<style scoped>\n",
       "    .dataframe tbody tr th:only-of-type {\n",
       "        vertical-align: middle;\n",
       "    }\n",
       "\n",
       "    .dataframe tbody tr th {\n",
       "        vertical-align: top;\n",
       "    }\n",
       "\n",
       "    .dataframe thead th {\n",
       "        text-align: right;\n",
       "    }\n",
       "</style>\n",
       "<table border=\"1\" class=\"dataframe\">\n",
       "  <thead>\n",
       "    <tr style=\"text-align: right;\">\n",
       "      <th></th>\n",
       "      <th>Administrative</th>\n",
       "      <th>Administrative_Duration</th>\n",
       "      <th>Informational</th>\n",
       "      <th>Informational_Duration</th>\n",
       "      <th>ProductRelated</th>\n",
       "      <th>ProductRelated_Duration</th>\n",
       "      <th>BounceRates</th>\n",
       "      <th>ExitRates</th>\n",
       "      <th>PageValues</th>\n",
       "      <th>SpecialDay</th>\n",
       "      <th>Month</th>\n",
       "      <th>OperatingSystems</th>\n",
       "      <th>Browser</th>\n",
       "      <th>Region</th>\n",
       "      <th>TrafficType</th>\n",
       "      <th>VisitorType</th>\n",
       "      <th>Weekend</th>\n",
       "      <th>Revenue</th>\n",
       "    </tr>\n",
       "  </thead>\n",
       "  <tbody>\n",
       "    <tr>\n",
       "      <th>0</th>\n",
       "      <td>0</td>\n",
       "      <td>0.0</td>\n",
       "      <td>0</td>\n",
       "      <td>0.0</td>\n",
       "      <td>1</td>\n",
       "      <td>0.000000</td>\n",
       "      <td>0.200000</td>\n",
       "      <td>0.200000</td>\n",
       "      <td>0.000000</td>\n",
       "      <td>0.0</td>\n",
       "      <td>Feb</td>\n",
       "      <td>1</td>\n",
       "      <td>1</td>\n",
       "      <td>1</td>\n",
       "      <td>1</td>\n",
       "      <td>Returning_Visitor</td>\n",
       "      <td>False</td>\n",
       "      <td>False</td>\n",
       "    </tr>\n",
       "    <tr>\n",
       "      <th>1</th>\n",
       "      <td>0</td>\n",
       "      <td>0.0</td>\n",
       "      <td>0</td>\n",
       "      <td>0.0</td>\n",
       "      <td>2</td>\n",
       "      <td>64.000000</td>\n",
       "      <td>0.000000</td>\n",
       "      <td>0.100000</td>\n",
       "      <td>0.000000</td>\n",
       "      <td>0.0</td>\n",
       "      <td>Feb</td>\n",
       "      <td>2</td>\n",
       "      <td>2</td>\n",
       "      <td>1</td>\n",
       "      <td>2</td>\n",
       "      <td>Returning_Visitor</td>\n",
       "      <td>False</td>\n",
       "      <td>False</td>\n",
       "    </tr>\n",
       "    <tr>\n",
       "      <th>2</th>\n",
       "      <td>0</td>\n",
       "      <td>0.0</td>\n",
       "      <td>0</td>\n",
       "      <td>0.0</td>\n",
       "      <td>1</td>\n",
       "      <td>0.000000</td>\n",
       "      <td>0.200000</td>\n",
       "      <td>0.200000</td>\n",
       "      <td>0.000000</td>\n",
       "      <td>0.0</td>\n",
       "      <td>Feb</td>\n",
       "      <td>4</td>\n",
       "      <td>1</td>\n",
       "      <td>9</td>\n",
       "      <td>3</td>\n",
       "      <td>Returning_Visitor</td>\n",
       "      <td>False</td>\n",
       "      <td>False</td>\n",
       "    </tr>\n",
       "    <tr>\n",
       "      <th>3</th>\n",
       "      <td>0</td>\n",
       "      <td>0.0</td>\n",
       "      <td>0</td>\n",
       "      <td>0.0</td>\n",
       "      <td>2</td>\n",
       "      <td>2.666667</td>\n",
       "      <td>0.050000</td>\n",
       "      <td>0.140000</td>\n",
       "      <td>0.000000</td>\n",
       "      <td>0.0</td>\n",
       "      <td>Feb</td>\n",
       "      <td>3</td>\n",
       "      <td>2</td>\n",
       "      <td>2</td>\n",
       "      <td>4</td>\n",
       "      <td>Returning_Visitor</td>\n",
       "      <td>False</td>\n",
       "      <td>False</td>\n",
       "    </tr>\n",
       "    <tr>\n",
       "      <th>4</th>\n",
       "      <td>0</td>\n",
       "      <td>0.0</td>\n",
       "      <td>0</td>\n",
       "      <td>0.0</td>\n",
       "      <td>10</td>\n",
       "      <td>627.500000</td>\n",
       "      <td>0.020000</td>\n",
       "      <td>0.050000</td>\n",
       "      <td>0.000000</td>\n",
       "      <td>0.0</td>\n",
       "      <td>Feb</td>\n",
       "      <td>3</td>\n",
       "      <td>3</td>\n",
       "      <td>1</td>\n",
       "      <td>4</td>\n",
       "      <td>Returning_Visitor</td>\n",
       "      <td>True</td>\n",
       "      <td>False</td>\n",
       "    </tr>\n",
       "    <tr>\n",
       "      <th>...</th>\n",
       "      <td>...</td>\n",
       "      <td>...</td>\n",
       "      <td>...</td>\n",
       "      <td>...</td>\n",
       "      <td>...</td>\n",
       "      <td>...</td>\n",
       "      <td>...</td>\n",
       "      <td>...</td>\n",
       "      <td>...</td>\n",
       "      <td>...</td>\n",
       "      <td>...</td>\n",
       "      <td>...</td>\n",
       "      <td>...</td>\n",
       "      <td>...</td>\n",
       "      <td>...</td>\n",
       "      <td>...</td>\n",
       "      <td>...</td>\n",
       "      <td>...</td>\n",
       "    </tr>\n",
       "    <tr>\n",
       "      <th>12325</th>\n",
       "      <td>3</td>\n",
       "      <td>145.0</td>\n",
       "      <td>0</td>\n",
       "      <td>0.0</td>\n",
       "      <td>53</td>\n",
       "      <td>1783.791667</td>\n",
       "      <td>0.007143</td>\n",
       "      <td>0.029031</td>\n",
       "      <td>12.241717</td>\n",
       "      <td>0.0</td>\n",
       "      <td>Dec</td>\n",
       "      <td>4</td>\n",
       "      <td>6</td>\n",
       "      <td>1</td>\n",
       "      <td>1</td>\n",
       "      <td>Returning_Visitor</td>\n",
       "      <td>True</td>\n",
       "      <td>False</td>\n",
       "    </tr>\n",
       "    <tr>\n",
       "      <th>12326</th>\n",
       "      <td>0</td>\n",
       "      <td>0.0</td>\n",
       "      <td>0</td>\n",
       "      <td>0.0</td>\n",
       "      <td>5</td>\n",
       "      <td>465.750000</td>\n",
       "      <td>0.000000</td>\n",
       "      <td>0.021333</td>\n",
       "      <td>0.000000</td>\n",
       "      <td>0.0</td>\n",
       "      <td>Nov</td>\n",
       "      <td>3</td>\n",
       "      <td>2</td>\n",
       "      <td>1</td>\n",
       "      <td>8</td>\n",
       "      <td>Returning_Visitor</td>\n",
       "      <td>True</td>\n",
       "      <td>False</td>\n",
       "    </tr>\n",
       "    <tr>\n",
       "      <th>12327</th>\n",
       "      <td>0</td>\n",
       "      <td>0.0</td>\n",
       "      <td>0</td>\n",
       "      <td>0.0</td>\n",
       "      <td>6</td>\n",
       "      <td>184.250000</td>\n",
       "      <td>0.083333</td>\n",
       "      <td>0.086667</td>\n",
       "      <td>0.000000</td>\n",
       "      <td>0.0</td>\n",
       "      <td>Nov</td>\n",
       "      <td>3</td>\n",
       "      <td>2</td>\n",
       "      <td>1</td>\n",
       "      <td>13</td>\n",
       "      <td>Returning_Visitor</td>\n",
       "      <td>True</td>\n",
       "      <td>False</td>\n",
       "    </tr>\n",
       "    <tr>\n",
       "      <th>12328</th>\n",
       "      <td>4</td>\n",
       "      <td>75.0</td>\n",
       "      <td>0</td>\n",
       "      <td>0.0</td>\n",
       "      <td>15</td>\n",
       "      <td>346.000000</td>\n",
       "      <td>0.000000</td>\n",
       "      <td>0.021053</td>\n",
       "      <td>0.000000</td>\n",
       "      <td>0.0</td>\n",
       "      <td>Nov</td>\n",
       "      <td>2</td>\n",
       "      <td>2</td>\n",
       "      <td>3</td>\n",
       "      <td>11</td>\n",
       "      <td>Returning_Visitor</td>\n",
       "      <td>False</td>\n",
       "      <td>False</td>\n",
       "    </tr>\n",
       "    <tr>\n",
       "      <th>12329</th>\n",
       "      <td>0</td>\n",
       "      <td>0.0</td>\n",
       "      <td>0</td>\n",
       "      <td>0.0</td>\n",
       "      <td>3</td>\n",
       "      <td>21.250000</td>\n",
       "      <td>0.000000</td>\n",
       "      <td>0.066667</td>\n",
       "      <td>0.000000</td>\n",
       "      <td>0.0</td>\n",
       "      <td>Nov</td>\n",
       "      <td>3</td>\n",
       "      <td>2</td>\n",
       "      <td>1</td>\n",
       "      <td>2</td>\n",
       "      <td>New_Visitor</td>\n",
       "      <td>True</td>\n",
       "      <td>False</td>\n",
       "    </tr>\n",
       "  </tbody>\n",
       "</table>\n",
       "<p>12330 rows × 18 columns</p>\n",
       "</div>"
      ],
      "text/plain": [
       "       Administrative  Administrative_Duration  Informational  \\\n",
       "0                   0                      0.0              0   \n",
       "1                   0                      0.0              0   \n",
       "2                   0                      0.0              0   \n",
       "3                   0                      0.0              0   \n",
       "4                   0                      0.0              0   \n",
       "...               ...                      ...            ...   \n",
       "12325               3                    145.0              0   \n",
       "12326               0                      0.0              0   \n",
       "12327               0                      0.0              0   \n",
       "12328               4                     75.0              0   \n",
       "12329               0                      0.0              0   \n",
       "\n",
       "       Informational_Duration  ProductRelated  ProductRelated_Duration  \\\n",
       "0                         0.0               1                 0.000000   \n",
       "1                         0.0               2                64.000000   \n",
       "2                         0.0               1                 0.000000   \n",
       "3                         0.0               2                 2.666667   \n",
       "4                         0.0              10               627.500000   \n",
       "...                       ...             ...                      ...   \n",
       "12325                     0.0              53              1783.791667   \n",
       "12326                     0.0               5               465.750000   \n",
       "12327                     0.0               6               184.250000   \n",
       "12328                     0.0              15               346.000000   \n",
       "12329                     0.0               3                21.250000   \n",
       "\n",
       "       BounceRates  ExitRates  PageValues  SpecialDay Month  OperatingSystems  \\\n",
       "0         0.200000   0.200000    0.000000         0.0   Feb                 1   \n",
       "1         0.000000   0.100000    0.000000         0.0   Feb                 2   \n",
       "2         0.200000   0.200000    0.000000         0.0   Feb                 4   \n",
       "3         0.050000   0.140000    0.000000         0.0   Feb                 3   \n",
       "4         0.020000   0.050000    0.000000         0.0   Feb                 3   \n",
       "...            ...        ...         ...         ...   ...               ...   \n",
       "12325     0.007143   0.029031   12.241717         0.0   Dec                 4   \n",
       "12326     0.000000   0.021333    0.000000         0.0   Nov                 3   \n",
       "12327     0.083333   0.086667    0.000000         0.0   Nov                 3   \n",
       "12328     0.000000   0.021053    0.000000         0.0   Nov                 2   \n",
       "12329     0.000000   0.066667    0.000000         0.0   Nov                 3   \n",
       "\n",
       "       Browser  Region  TrafficType        VisitorType  Weekend  Revenue  \n",
       "0            1       1            1  Returning_Visitor    False    False  \n",
       "1            2       1            2  Returning_Visitor    False    False  \n",
       "2            1       9            3  Returning_Visitor    False    False  \n",
       "3            2       2            4  Returning_Visitor    False    False  \n",
       "4            3       1            4  Returning_Visitor     True    False  \n",
       "...        ...     ...          ...                ...      ...      ...  \n",
       "12325        6       1            1  Returning_Visitor     True    False  \n",
       "12326        2       1            8  Returning_Visitor     True    False  \n",
       "12327        2       1           13  Returning_Visitor     True    False  \n",
       "12328        2       3           11  Returning_Visitor    False    False  \n",
       "12329        2       1            2        New_Visitor     True    False  \n",
       "\n",
       "[12330 rows x 18 columns]"
      ]
     },
     "execution_count": 3,
     "metadata": {},
     "output_type": "execute_result"
    }
   ],
   "source": [
    "df = pd.read_csv('online_shoppers_intention.csv')\n",
    "df"
   ]
  },
  {
   "cell_type": "code",
   "execution_count": 4,
   "metadata": {},
   "outputs": [
    {
     "data": {
      "text/plain": [
       "(12330, 18)"
      ]
     },
     "execution_count": 4,
     "metadata": {},
     "output_type": "execute_result"
    }
   ],
   "source": [
    "df.shape # 17 predictive variables and total of 12330 observations"
   ]
  },
  {
   "cell_type": "code",
   "execution_count": 5,
   "metadata": {},
   "outputs": [],
   "source": [
    "#Transforming Weekend and Revenue bool values into binary 0,1 categories for correct interpreation in Algorithms. 1=True\n",
    "df['Weekend'] = df['Weekend'].astype('uint8')\n",
    "df['Revenue'] = df['Revenue'].astype('uint8')"
   ]
  },
  {
   "cell_type": "markdown",
   "metadata": {},
   "source": [
    "### Manually inspecting data patterns"
   ]
  },
  {
   "cell_type": "code",
   "execution_count": 6,
   "metadata": {},
   "outputs": [
    {
     "name": "stdout",
     "output_type": "stream",
     "text": [
      "0    10422\n",
      "1     1908\n",
      "Name: Revenue, dtype: int64\n",
      "0    9462\n",
      "1    2868\n",
      "Name: Weekend, dtype: int64\n",
      "Returning_Visitor    10551\n",
      "New_Visitor           1694\n",
      "Other                   85\n",
      "Name: VisitorType, dtype: int64\n",
      "2     3913\n",
      "1     2451\n",
      "3     2052\n",
      "4     1069\n",
      "13     738\n",
      "10     450\n",
      "6      444\n",
      "8      343\n",
      "5      260\n",
      "11     247\n",
      "20     198\n",
      "9       42\n",
      "7       40\n",
      "15      38\n",
      "19      17\n",
      "14      13\n",
      "18      10\n",
      "16       3\n",
      "12       1\n",
      "17       1\n",
      "Name: TrafficType, dtype: int64\n",
      "1    4780\n",
      "3    2403\n",
      "4    1182\n",
      "2    1136\n",
      "6     805\n",
      "7     761\n",
      "9     511\n",
      "8     434\n",
      "5     318\n",
      "Name: Region, dtype: int64\n",
      "2     7961\n",
      "1     2462\n",
      "4      736\n",
      "5      467\n",
      "6      174\n",
      "10     163\n",
      "8      135\n",
      "3      105\n",
      "13      61\n",
      "7       49\n",
      "12      10\n",
      "11       6\n",
      "9        1\n",
      "Name: Browser, dtype: int64\n",
      "2    6601\n",
      "1    2585\n",
      "3    2555\n",
      "4     478\n",
      "8      79\n",
      "6      19\n",
      "7       7\n",
      "5       6\n",
      "Name: OperatingSystems, dtype: int64\n",
      "May     3364\n",
      "Nov     2998\n",
      "Mar     1907\n",
      "Dec     1727\n",
      "Oct      549\n",
      "Sep      448\n",
      "Aug      433\n",
      "Jul      432\n",
      "June     288\n",
      "Feb      184\n",
      "Name: Month, dtype: int64\n",
      "                           count         mean          std  min           max\n",
      "Administrative           12330.0     2.315166     3.321784  0.0     27.000000\n",
      "Administrative_Duration  12330.0    80.818611   176.779107  0.0   3398.750000\n",
      "Informational            12330.0     0.503569     1.270156  0.0     24.000000\n",
      "Informational_Duration   12330.0    34.472398   140.749294  0.0   2549.375000\n",
      "ProductRelated           12330.0    31.731468    44.475503  0.0    705.000000\n",
      "ProductRelated_Duration  12330.0  1194.746220  1913.669288  0.0  63973.522230\n",
      "BounceRates              12330.0     0.022191     0.048488  0.0      0.200000\n",
      "ExitRates                12330.0     0.043073     0.048597  0.0      0.200000\n",
      "PageValues               12330.0     5.889258    18.568437  0.0    361.763742\n",
      "SpecialDay               12330.0     0.061427     0.198917  0.0      1.000000\n"
     ]
    },
    {
     "data": {
      "image/png": "[encoded data removed]",
      "text/plain": [
       "<Figure size 1440x720 with 12 Axes>"
      ]
     },
     "metadata": {
      "needs_background": "light"
     },
     "output_type": "display_data"
    }
   ],
   "source": [
    "#Manually inspecting data patterns\n",
    "print(df.Revenue.value_counts())\n",
    "print(df.Weekend.value_counts())\n",
    "print(df.VisitorType.value_counts())\n",
    "print(df.TrafficType.value_counts())\n",
    "print(df.Region.value_counts())\n",
    "print(df.Browser.value_counts())\n",
    "print(df.OperatingSystems.value_counts())\n",
    "print(df.Month.value_counts())\n",
    "print(df[[\"Administrative\", \"Administrative_Duration\", \"Informational\",\"Informational_Duration\", \"ProductRelated\",\n",
    "   \"ProductRelated_Duration\",\"BounceRates\",\"ExitRates\",\"PageValues\",\"SpecialDay\"]].describe().T[['count', 'mean', 'std', 'min', 'max']])\n",
    "\n",
    "#Simple visualisatons of the dataset\n",
    "visy=df['Revenue']\n",
    "visx=df[['Administrative', 'Administrative_Duration', 'Informational',\n",
    "       'Informational_Duration', 'ProductRelated', 'ProductRelated_Duration',\n",
    "       'BounceRates', 'ExitRates', 'PageValues', 'SpecialDay']]\n",
    "fig, axes = plt.subplots(3, 4, figsize=(20, 10))\n",
    "for i, ax in enumerate(axes.ravel()):\n",
    "    if i > 9:\n",
    "        ax.set_visible(False)\n",
    "        continue\n",
    "    ax.plot(visx.iloc[:, i], visy.iloc[:], 'o', alpha=.5)\n",
    "    ax.set_title(\"{}: {}\".format(i, df.columns[i]))\n",
    "    ax.set_ylabel(\"Purchase\")"
   ]
  },
  {
   "cell_type": "markdown",
   "metadata": {},
   "source": [
    "The dataset is significantly unbalanced with majority of user sessions not ending with a purchase (84.52% - benchmark). The Revenue has indeed only two categories corresponding to dataset description. VisitorType has the majority of Returning Customers. However, we also have a category ('Other') that is represented with 85 observations, which, based on the variable name, could indicate that it was difficult to categorize these clients under a certain category. TrafficType seems to have a couple of categories that are represented with only a single observation, which could potentially indicate outliers. Similar situation is observed with the variables of Browser and OperatingSystems with some categories being represented just by a couple of the observations, while other categories having a way larger number of observations. Furthermore, we can observe some seasonal effect with most of the session taking place at the certain months (summer months seem very inactive as well as months like February or October)."
   ]
  },
  {
   "cell_type": "markdown",
   "metadata": {},
   "source": [
    "### Creating dummies variables for our categorical variables"
   ]
  },
  {
   "cell_type": "code",
   "execution_count": 7,
   "metadata": {},
   "outputs": [
    {
     "data": {
      "text/html": [
       "<div>\n",
       "<style scoped>\n",
       "    .dataframe tbody tr th:only-of-type {\n",
       "        vertical-align: middle;\n",
       "    }\n",
       "\n",
       "    .dataframe tbody tr th {\n",
       "        vertical-align: top;\n",
       "    }\n",
       "\n",
       "    .dataframe thead th {\n",
       "        text-align: right;\n",
       "    }\n",
       "</style>\n",
       "<table border=\"1\" class=\"dataframe\">\n",
       "  <thead>\n",
       "    <tr style=\"text-align: right;\">\n",
       "      <th></th>\n",
       "      <th>Administrative</th>\n",
       "      <th>Administrative_Duration</th>\n",
       "      <th>Informational</th>\n",
       "      <th>Informational_Duration</th>\n",
       "      <th>ProductRelated</th>\n",
       "      <th>ProductRelated_Duration</th>\n",
       "      <th>BounceRates</th>\n",
       "      <th>ExitRates</th>\n",
       "      <th>PageValues</th>\n",
       "      <th>SpecialDay</th>\n",
       "      <th>...</th>\n",
       "      <th>TrafficType_14</th>\n",
       "      <th>TrafficType_15</th>\n",
       "      <th>TrafficType_16</th>\n",
       "      <th>TrafficType_17</th>\n",
       "      <th>TrafficType_18</th>\n",
       "      <th>TrafficType_19</th>\n",
       "      <th>TrafficType_20</th>\n",
       "      <th>VisitorType_New_Visitor</th>\n",
       "      <th>VisitorType_Other</th>\n",
       "      <th>VisitorType_Returning_Visitor</th>\n",
       "    </tr>\n",
       "  </thead>\n",
       "  <tbody>\n",
       "    <tr>\n",
       "      <th>0</th>\n",
       "      <td>0</td>\n",
       "      <td>0.0</td>\n",
       "      <td>0</td>\n",
       "      <td>0.0</td>\n",
       "      <td>1</td>\n",
       "      <td>0.000000</td>\n",
       "      <td>0.200000</td>\n",
       "      <td>0.200000</td>\n",
       "      <td>0.000000</td>\n",
       "      <td>0.0</td>\n",
       "      <td>...</td>\n",
       "      <td>0</td>\n",
       "      <td>0</td>\n",
       "      <td>0</td>\n",
       "      <td>0</td>\n",
       "      <td>0</td>\n",
       "      <td>0</td>\n",
       "      <td>0</td>\n",
       "      <td>0</td>\n",
       "      <td>0</td>\n",
       "      <td>1</td>\n",
       "    </tr>\n",
       "    <tr>\n",
       "      <th>1</th>\n",
       "      <td>0</td>\n",
       "      <td>0.0</td>\n",
       "      <td>0</td>\n",
       "      <td>0.0</td>\n",
       "      <td>2</td>\n",
       "      <td>64.000000</td>\n",
       "      <td>0.000000</td>\n",
       "      <td>0.100000</td>\n",
       "      <td>0.000000</td>\n",
       "      <td>0.0</td>\n",
       "      <td>...</td>\n",
       "      <td>0</td>\n",
       "      <td>0</td>\n",
       "      <td>0</td>\n",
       "      <td>0</td>\n",
       "      <td>0</td>\n",
       "      <td>0</td>\n",
       "      <td>0</td>\n",
       "      <td>0</td>\n",
       "      <td>0</td>\n",
       "      <td>1</td>\n",
       "    </tr>\n",
       "    <tr>\n",
       "      <th>2</th>\n",
       "      <td>0</td>\n",
       "      <td>0.0</td>\n",
       "      <td>0</td>\n",
       "      <td>0.0</td>\n",
       "      <td>1</td>\n",
       "      <td>0.000000</td>\n",
       "      <td>0.200000</td>\n",
       "      <td>0.200000</td>\n",
       "      <td>0.000000</td>\n",
       "      <td>0.0</td>\n",
       "      <td>...</td>\n",
       "      <td>0</td>\n",
       "      <td>0</td>\n",
       "      <td>0</td>\n",
       "      <td>0</td>\n",
       "      <td>0</td>\n",
       "      <td>0</td>\n",
       "      <td>0</td>\n",
       "      <td>0</td>\n",
       "      <td>0</td>\n",
       "      <td>1</td>\n",
       "    </tr>\n",
       "    <tr>\n",
       "      <th>3</th>\n",
       "      <td>0</td>\n",
       "      <td>0.0</td>\n",
       "      <td>0</td>\n",
       "      <td>0.0</td>\n",
       "      <td>2</td>\n",
       "      <td>2.666667</td>\n",
       "      <td>0.050000</td>\n",
       "      <td>0.140000</td>\n",
       "      <td>0.000000</td>\n",
       "      <td>0.0</td>\n",
       "      <td>...</td>\n",
       "      <td>0</td>\n",
       "      <td>0</td>\n",
       "      <td>0</td>\n",
       "      <td>0</td>\n",
       "      <td>0</td>\n",
       "      <td>0</td>\n",
       "      <td>0</td>\n",
       "      <td>0</td>\n",
       "      <td>0</td>\n",
       "      <td>1</td>\n",
       "    </tr>\n",
       "    <tr>\n",
       "      <th>4</th>\n",
       "      <td>0</td>\n",
       "      <td>0.0</td>\n",
       "      <td>0</td>\n",
       "      <td>0.0</td>\n",
       "      <td>10</td>\n",
       "      <td>627.500000</td>\n",
       "      <td>0.020000</td>\n",
       "      <td>0.050000</td>\n",
       "      <td>0.000000</td>\n",
       "      <td>0.0</td>\n",
       "      <td>...</td>\n",
       "      <td>0</td>\n",
       "      <td>0</td>\n",
       "      <td>0</td>\n",
       "      <td>0</td>\n",
       "      <td>0</td>\n",
       "      <td>0</td>\n",
       "      <td>0</td>\n",
       "      <td>0</td>\n",
       "      <td>0</td>\n",
       "      <td>1</td>\n",
       "    </tr>\n",
       "    <tr>\n",
       "      <th>...</th>\n",
       "      <td>...</td>\n",
       "      <td>...</td>\n",
       "      <td>...</td>\n",
       "      <td>...</td>\n",
       "      <td>...</td>\n",
       "      <td>...</td>\n",
       "      <td>...</td>\n",
       "      <td>...</td>\n",
       "      <td>...</td>\n",
       "      <td>...</td>\n",
       "      <td>...</td>\n",
       "      <td>...</td>\n",
       "      <td>...</td>\n",
       "      <td>...</td>\n",
       "      <td>...</td>\n",
       "      <td>...</td>\n",
       "      <td>...</td>\n",
       "      <td>...</td>\n",
       "      <td>...</td>\n",
       "      <td>...</td>\n",
       "      <td>...</td>\n",
       "    </tr>\n",
       "    <tr>\n",
       "      <th>12325</th>\n",
       "      <td>3</td>\n",
       "      <td>145.0</td>\n",
       "      <td>0</td>\n",
       "      <td>0.0</td>\n",
       "      <td>53</td>\n",
       "      <td>1783.791667</td>\n",
       "      <td>0.007143</td>\n",
       "      <td>0.029031</td>\n",
       "      <td>12.241717</td>\n",
       "      <td>0.0</td>\n",
       "      <td>...</td>\n",
       "      <td>0</td>\n",
       "      <td>0</td>\n",
       "      <td>0</td>\n",
       "      <td>0</td>\n",
       "      <td>0</td>\n",
       "      <td>0</td>\n",
       "      <td>0</td>\n",
       "      <td>0</td>\n",
       "      <td>0</td>\n",
       "      <td>1</td>\n",
       "    </tr>\n",
       "    <tr>\n",
       "      <th>12326</th>\n",
       "      <td>0</td>\n",
       "      <td>0.0</td>\n",
       "      <td>0</td>\n",
       "      <td>0.0</td>\n",
       "      <td>5</td>\n",
       "      <td>465.750000</td>\n",
       "      <td>0.000000</td>\n",
       "      <td>0.021333</td>\n",
       "      <td>0.000000</td>\n",
       "      <td>0.0</td>\n",
       "      <td>...</td>\n",
       "      <td>0</td>\n",
       "      <td>0</td>\n",
       "      <td>0</td>\n",
       "      <td>0</td>\n",
       "      <td>0</td>\n",
       "      <td>0</td>\n",
       "      <td>0</td>\n",
       "      <td>0</td>\n",
       "      <td>0</td>\n",
       "      <td>1</td>\n",
       "    </tr>\n",
       "    <tr>\n",
       "      <th>12327</th>\n",
       "      <td>0</td>\n",
       "      <td>0.0</td>\n",
       "      <td>0</td>\n",
       "      <td>0.0</td>\n",
       "      <td>6</td>\n",
       "      <td>184.250000</td>\n",
       "      <td>0.083333</td>\n",
       "      <td>0.086667</td>\n",
       "      <td>0.000000</td>\n",
       "      <td>0.0</td>\n",
       "      <td>...</td>\n",
       "      <td>0</td>\n",
       "      <td>0</td>\n",
       "      <td>0</td>\n",
       "      <td>0</td>\n",
       "      <td>0</td>\n",
       "      <td>0</td>\n",
       "      <td>0</td>\n",
       "      <td>0</td>\n",
       "      <td>0</td>\n",
       "      <td>1</td>\n",
       "    </tr>\n",
       "    <tr>\n",
       "      <th>12328</th>\n",
       "      <td>4</td>\n",
       "      <td>75.0</td>\n",
       "      <td>0</td>\n",
       "      <td>0.0</td>\n",
       "      <td>15</td>\n",
       "      <td>346.000000</td>\n",
       "      <td>0.000000</td>\n",
       "      <td>0.021053</td>\n",
       "      <td>0.000000</td>\n",
       "      <td>0.0</td>\n",
       "      <td>...</td>\n",
       "      <td>0</td>\n",
       "      <td>0</td>\n",
       "      <td>0</td>\n",
       "      <td>0</td>\n",
       "      <td>0</td>\n",
       "      <td>0</td>\n",
       "      <td>0</td>\n",
       "      <td>0</td>\n",
       "      <td>0</td>\n",
       "      <td>1</td>\n",
       "    </tr>\n",
       "    <tr>\n",
       "      <th>12329</th>\n",
       "      <td>0</td>\n",
       "      <td>0.0</td>\n",
       "      <td>0</td>\n",
       "      <td>0.0</td>\n",
       "      <td>3</td>\n",
       "      <td>21.250000</td>\n",
       "      <td>0.000000</td>\n",
       "      <td>0.066667</td>\n",
       "      <td>0.000000</td>\n",
       "      <td>0.0</td>\n",
       "      <td>...</td>\n",
       "      <td>0</td>\n",
       "      <td>0</td>\n",
       "      <td>0</td>\n",
       "      <td>0</td>\n",
       "      <td>0</td>\n",
       "      <td>0</td>\n",
       "      <td>0</td>\n",
       "      <td>1</td>\n",
       "      <td>0</td>\n",
       "      <td>0</td>\n",
       "    </tr>\n",
       "  </tbody>\n",
       "</table>\n",
       "<p>12330 rows × 75 columns</p>\n",
       "</div>"
      ],
      "text/plain": [
       "       Administrative  Administrative_Duration  Informational  \\\n",
       "0                   0                      0.0              0   \n",
       "1                   0                      0.0              0   \n",
       "2                   0                      0.0              0   \n",
       "3                   0                      0.0              0   \n",
       "4                   0                      0.0              0   \n",
       "...               ...                      ...            ...   \n",
       "12325               3                    145.0              0   \n",
       "12326               0                      0.0              0   \n",
       "12327               0                      0.0              0   \n",
       "12328               4                     75.0              0   \n",
       "12329               0                      0.0              0   \n",
       "\n",
       "       Informational_Duration  ProductRelated  ProductRelated_Duration  \\\n",
       "0                         0.0               1                 0.000000   \n",
       "1                         0.0               2                64.000000   \n",
       "2                         0.0               1                 0.000000   \n",
       "3                         0.0               2                 2.666667   \n",
       "4                         0.0              10               627.500000   \n",
       "...                       ...             ...                      ...   \n",
       "12325                     0.0              53              1783.791667   \n",
       "12326                     0.0               5               465.750000   \n",
       "12327                     0.0               6               184.250000   \n",
       "12328                     0.0              15               346.000000   \n",
       "12329                     0.0               3                21.250000   \n",
       "\n",
       "       BounceRates  ExitRates  PageValues  SpecialDay  ...  TrafficType_14  \\\n",
       "0         0.200000   0.200000    0.000000         0.0  ...               0   \n",
       "1         0.000000   0.100000    0.000000         0.0  ...               0   \n",
       "2         0.200000   0.200000    0.000000         0.0  ...               0   \n",
       "3         0.050000   0.140000    0.000000         0.0  ...               0   \n",
       "4         0.020000   0.050000    0.000000         0.0  ...               0   \n",
       "...            ...        ...         ...         ...  ...             ...   \n",
       "12325     0.007143   0.029031   12.241717         0.0  ...               0   \n",
       "12326     0.000000   0.021333    0.000000         0.0  ...               0   \n",
       "12327     0.083333   0.086667    0.000000         0.0  ...               0   \n",
       "12328     0.000000   0.021053    0.000000         0.0  ...               0   \n",
       "12329     0.000000   0.066667    0.000000         0.0  ...               0   \n",
       "\n",
       "       TrafficType_15  TrafficType_16  TrafficType_17  TrafficType_18  \\\n",
       "0                   0               0               0               0   \n",
       "1                   0               0               0               0   \n",
       "2                   0               0               0               0   \n",
       "3                   0               0               0               0   \n",
       "4                   0               0               0               0   \n",
       "...               ...             ...             ...             ...   \n",
       "12325               0               0               0               0   \n",
       "12326               0               0               0               0   \n",
       "12327               0               0               0               0   \n",
       "12328               0               0               0               0   \n",
       "12329               0               0               0               0   \n",
       "\n",
       "       TrafficType_19  TrafficType_20  VisitorType_New_Visitor  \\\n",
       "0                   0               0                        0   \n",
       "1                   0               0                        0   \n",
       "2                   0               0                        0   \n",
       "3                   0               0                        0   \n",
       "4                   0               0                        0   \n",
       "...               ...             ...                      ...   \n",
       "12325               0               0                        0   \n",
       "12326               0               0                        0   \n",
       "12327               0               0                        0   \n",
       "12328               0               0                        0   \n",
       "12329               0               0                        1   \n",
       "\n",
       "       VisitorType_Other  VisitorType_Returning_Visitor  \n",
       "0                      0                              1  \n",
       "1                      0                              1  \n",
       "2                      0                              1  \n",
       "3                      0                              1  \n",
       "4                      0                              1  \n",
       "...                  ...                            ...  \n",
       "12325                  0                              1  \n",
       "12326                  0                              1  \n",
       "12327                  0                              1  \n",
       "12328                  0                              1  \n",
       "12329                  0                              0  \n",
       "\n",
       "[12330 rows x 75 columns]"
      ]
     },
     "execution_count": 7,
     "metadata": {},
     "output_type": "execute_result"
    }
   ],
   "source": [
    "df_1 = pd.get_dummies(df, columns=['Month', 'OperatingSystems', 'Browser', 'Region', 'TrafficType', 'VisitorType'])\n",
    "df_1"
   ]
  },
  {
   "cell_type": "code",
   "execution_count": 8,
   "metadata": {},
   "outputs": [],
   "source": [
    "#Splitting the dataset into features and target variable\" Revenue\n",
    "test_variable = df_1['Revenue'].tolist()\n",
    "target_variables = df_1.drop(columns=['Revenue'])"
   ]
  },
  {
   "cell_type": "markdown",
   "metadata": {},
   "source": [
    "### Partition into training and test sets. Validating partition using t-test for difference in means"
   ]
  },
  {
   "cell_type": "code",
   "execution_count": 9,
   "metadata": {},
   "outputs": [],
   "source": [
    "#Data Split\n",
    "X_train, X_test, y_train, y_test = train_test_split(target_variables, test_variable, random_state=0)"
   ]
  },
  {
   "cell_type": "code",
   "execution_count": 10,
   "metadata": {},
   "outputs": [
    {
     "data": {
      "text/plain": [
       "pandas.core.frame.DataFrame"
      ]
     },
     "execution_count": 10,
     "metadata": {},
     "output_type": "execute_result"
    }
   ],
   "source": [
    "type(X_train)"
   ]
  },
  {
   "cell_type": "markdown",
   "metadata": {},
   "source": [
    "### Trying to find the outliers using unsupervised outlier Detection Method - Isolation Forest"
   ]
  },
  {
   "cell_type": "code",
   "execution_count": 11,
   "metadata": {},
   "outputs": [
    {
     "data": {
      "text/plain": [
       "IsolationForest(n_estimators=1000, random_state=0)"
      ]
     },
     "execution_count": 11,
     "metadata": {},
     "output_type": "execute_result"
    }
   ],
   "source": [
    "#Contamination will be default as we do not know what percentage of outliers we would expect\n",
    "from sklearn.ensemble import IsolationForest \n",
    "X_train_df = pd.DataFrame(X_train)\n",
    "\n",
    "model = IsolationForest(n_estimators=1000, random_state=0)\n",
    "model.fit(X_train_df)"
   ]
  },
  {
   "cell_type": "code",
   "execution_count": 12,
   "metadata": {},
   "outputs": [
    {
     "data": {
      "text/plain": [
       " 1.0    6910\n",
       "-1.0      15\n",
       "Name: IsolationForest Outliers, dtype: int64"
      ]
     },
     "execution_count": 12,
     "metadata": {},
     "output_type": "execute_result"
    }
   ],
   "source": [
    "X_train_df[\"IsolationForest Outliers\"] = pd.Series(model.predict(X_train_df)) #-1 outlier, 1 - nomrla data\n",
    "X_train_df[\"IsolationForest Outliers\"].value_counts()"
   ]
  },
  {
   "cell_type": "markdown",
   "metadata": {},
   "source": [
    "Only 0.2% of the observations are categorized as outliers, iForest is only sensitive to global outliers, and is weak in dealing with local outliers. Decision: We would not proceed with the removing of the outliers from the dataset as their porportions is few, while we do not want to remove data as available trianing data is not that large and perhaps these 0.2% represent some important trend. Furthermore later on we will apply MinMaxScaler to noramlzie data, which should dimiish the effect of the outliers."
   ]
  },
  {
   "cell_type": "markdown",
   "metadata": {},
   "source": [
    "### Feature Extraction. Identifying 15 most important features for predicition using Random Forest."
   ]
  },
  {
   "cell_type": "markdown",
   "metadata": {},
   "source": [
    "In original report random forest was the best model, hence we use it to identify the most important predicttors."
   ]
  },
  {
   "cell_type": "code",
   "execution_count": 17,
   "metadata": {},
   "outputs": [],
   "source": [
    "#Redoing data split to avoid errors\n",
    "X_train, X_test, y_train, y_test = train_test_split(target_variables, test_variable, random_state=0)"
   ]
  },
  {
   "cell_type": "code",
   "execution_count": 18,
   "metadata": {},
   "outputs": [],
   "source": [
    "#Random Forest\n",
    "rf = RandomForestClassifier(random_state = 0)\n",
    "rf.fit(X_train, y_train)\n",
    "y_pred_rf = rf.predict(X_test)"
   ]
  },
  {
   "cell_type": "code",
   "execution_count": 19,
   "metadata": {},
   "outputs": [
    {
     "name": "stdout",
     "output_type": "stream",
     "text": [
      "PageValues                 0.313968\n",
      "ProductRelated_Duration    0.084132\n",
      "ExitRates                  0.077333\n",
      "ProductRelated             0.070976\n",
      "Administrative_Duration    0.056109\n",
      "BounceRates                0.055486\n",
      "Administrative             0.043552\n",
      "Informational_Duration     0.026052\n",
      "Month_Nov                  0.019850\n",
      "Informational              0.019038\n",
      "Region_1                   0.011383\n",
      "Weekend                    0.010688\n",
      "TrafficType_2              0.010123\n",
      "Browser_2                  0.009507\n",
      "Region_3                   0.009402\n",
      "dtype: float64\n"
     ]
    },
    {
     "data": {
      "image/png": "[encoded data removed]",
      "text/plain": [
       "<Figure size 432x288 with 1 Axes>"
      ]
     },
     "metadata": {
      "needs_background": "light"
     },
     "output_type": "display_data"
    }
   ],
   "source": [
    "feature_names = X_train.columns\n",
    "\n",
    "importances = rf.feature_importances_\n",
    "std = np.std([tree.feature_importances_ for tree in rf.estimators_], axis=0)\n",
    "forest_importances = pd.Series(importances, index=feature_names)\n",
    "print(forest_importances.nlargest(n=15))\n",
    "\n",
    "\n",
    "fig, ax = plt.subplots()\n",
    "forest_importances.plot.bar(yerr=std, ax=ax)\n",
    "ax.set_title(\"Feature importances using MDI\")\n",
    "ax.set_ylabel(\"Mean decrease in impurity\")\n",
    "fig.tight_layout()\n",
    "\n"
   ]
  },
  {
   "cell_type": "markdown",
   "metadata": {},
   "source": [
    "PageValues is clearly the most important variable (0.314), followed by other closely-scored features. However, even for the 15 th most important feature we see a very small score [Region_3 (0.009402)], suggesting that many variables do not have relevant weigth for our model."
   ]
  },
  {
   "cell_type": "markdown",
   "metadata": {},
   "source": [
    "### Creating polynomial features\n",
    "To increase model complexity we would create polynomial features for the 15 most important predictors that were identified by the random forest. Then using random forest on the new dataset with polyonials we will reidentify the most important features to see whether polyinomial features will add prediciton effects."
   ]
  },
  {
   "cell_type": "code",
   "execution_count": 20,
   "metadata": {},
   "outputs": [
    {
     "data": {
      "text/html": [
       "<div>\n",
       "<style scoped>\n",
       "    .dataframe tbody tr th:only-of-type {\n",
       "        vertical-align: middle;\n",
       "    }\n",
       "\n",
       "    .dataframe tbody tr th {\n",
       "        vertical-align: top;\n",
       "    }\n",
       "\n",
       "    .dataframe thead th {\n",
       "        text-align: right;\n",
       "    }\n",
       "</style>\n",
       "<table border=\"1\" class=\"dataframe\">\n",
       "  <thead>\n",
       "    <tr style=\"text-align: right;\">\n",
       "      <th></th>\n",
       "      <th>1</th>\n",
       "      <th>PageValues</th>\n",
       "      <th>ProductRelated_Duration</th>\n",
       "      <th>ExitRates</th>\n",
       "      <th>ProductRelated</th>\n",
       "      <th>Administrative_Duration</th>\n",
       "      <th>BounceRates</th>\n",
       "      <th>Administrative</th>\n",
       "      <th>Informational_Duration</th>\n",
       "      <th>Month_Nov</th>\n",
       "      <th>...</th>\n",
       "      <th>TrafficType_2^3</th>\n",
       "      <th>TrafficType_2^2 Browser_2</th>\n",
       "      <th>TrafficType_2^2 Region_3</th>\n",
       "      <th>TrafficType_2 Browser_2^2</th>\n",
       "      <th>TrafficType_2 Browser_2 Region_3</th>\n",
       "      <th>TrafficType_2 Region_3^2</th>\n",
       "      <th>Browser_2^3</th>\n",
       "      <th>Browser_2^2 Region_3</th>\n",
       "      <th>Browser_2 Region_3^2</th>\n",
       "      <th>Region_3^3</th>\n",
       "    </tr>\n",
       "  </thead>\n",
       "  <tbody>\n",
       "    <tr>\n",
       "      <th>0</th>\n",
       "      <td>1.0</td>\n",
       "      <td>0.000000</td>\n",
       "      <td>2622.600281</td>\n",
       "      <td>0.028520</td>\n",
       "      <td>99.0</td>\n",
       "      <td>0.000000</td>\n",
       "      <td>0.022000</td>\n",
       "      <td>0.0</td>\n",
       "      <td>0.0</td>\n",
       "      <td>1.0</td>\n",
       "      <td>...</td>\n",
       "      <td>0.0</td>\n",
       "      <td>0.0</td>\n",
       "      <td>0.0</td>\n",
       "      <td>0.0</td>\n",
       "      <td>0.0</td>\n",
       "      <td>0.0</td>\n",
       "      <td>1.0</td>\n",
       "      <td>0.0</td>\n",
       "      <td>0.0</td>\n",
       "      <td>0.0</td>\n",
       "    </tr>\n",
       "    <tr>\n",
       "      <th>1</th>\n",
       "      <td>1.0</td>\n",
       "      <td>0.000000</td>\n",
       "      <td>1529.304670</td>\n",
       "      <td>0.009150</td>\n",
       "      <td>28.0</td>\n",
       "      <td>993.000000</td>\n",
       "      <td>0.001481</td>\n",
       "      <td>1.0</td>\n",
       "      <td>0.0</td>\n",
       "      <td>0.0</td>\n",
       "      <td>...</td>\n",
       "      <td>1.0</td>\n",
       "      <td>1.0</td>\n",
       "      <td>0.0</td>\n",
       "      <td>1.0</td>\n",
       "      <td>0.0</td>\n",
       "      <td>0.0</td>\n",
       "      <td>1.0</td>\n",
       "      <td>0.0</td>\n",
       "      <td>0.0</td>\n",
       "      <td>0.0</td>\n",
       "    </tr>\n",
       "    <tr>\n",
       "      <th>2</th>\n",
       "      <td>1.0</td>\n",
       "      <td>4.667079</td>\n",
       "      <td>3214.020563</td>\n",
       "      <td>0.007724</td>\n",
       "      <td>82.0</td>\n",
       "      <td>0.000000</td>\n",
       "      <td>0.000000</td>\n",
       "      <td>0.0</td>\n",
       "      <td>81.0</td>\n",
       "      <td>0.0</td>\n",
       "      <td>...</td>\n",
       "      <td>0.0</td>\n",
       "      <td>0.0</td>\n",
       "      <td>0.0</td>\n",
       "      <td>0.0</td>\n",
       "      <td>0.0</td>\n",
       "      <td>0.0</td>\n",
       "      <td>0.0</td>\n",
       "      <td>0.0</td>\n",
       "      <td>0.0</td>\n",
       "      <td>0.0</td>\n",
       "    </tr>\n",
       "    <tr>\n",
       "      <th>3</th>\n",
       "      <td>1.0</td>\n",
       "      <td>0.000000</td>\n",
       "      <td>546.958333</td>\n",
       "      <td>0.033846</td>\n",
       "      <td>13.0</td>\n",
       "      <td>0.000000</td>\n",
       "      <td>0.000000</td>\n",
       "      <td>0.0</td>\n",
       "      <td>0.0</td>\n",
       "      <td>0.0</td>\n",
       "      <td>...</td>\n",
       "      <td>0.0</td>\n",
       "      <td>0.0</td>\n",
       "      <td>0.0</td>\n",
       "      <td>0.0</td>\n",
       "      <td>0.0</td>\n",
       "      <td>0.0</td>\n",
       "      <td>1.0</td>\n",
       "      <td>0.0</td>\n",
       "      <td>0.0</td>\n",
       "      <td>0.0</td>\n",
       "    </tr>\n",
       "    <tr>\n",
       "      <th>4</th>\n",
       "      <td>1.0</td>\n",
       "      <td>0.000000</td>\n",
       "      <td>0.000000</td>\n",
       "      <td>0.200000</td>\n",
       "      <td>2.0</td>\n",
       "      <td>0.000000</td>\n",
       "      <td>0.200000</td>\n",
       "      <td>0.0</td>\n",
       "      <td>0.0</td>\n",
       "      <td>0.0</td>\n",
       "      <td>...</td>\n",
       "      <td>0.0</td>\n",
       "      <td>0.0</td>\n",
       "      <td>0.0</td>\n",
       "      <td>0.0</td>\n",
       "      <td>0.0</td>\n",
       "      <td>0.0</td>\n",
       "      <td>1.0</td>\n",
       "      <td>0.0</td>\n",
       "      <td>0.0</td>\n",
       "      <td>0.0</td>\n",
       "    </tr>\n",
       "    <tr>\n",
       "      <th>...</th>\n",
       "      <td>...</td>\n",
       "      <td>...</td>\n",
       "      <td>...</td>\n",
       "      <td>...</td>\n",
       "      <td>...</td>\n",
       "      <td>...</td>\n",
       "      <td>...</td>\n",
       "      <td>...</td>\n",
       "      <td>...</td>\n",
       "      <td>...</td>\n",
       "      <td>...</td>\n",
       "      <td>...</td>\n",
       "      <td>...</td>\n",
       "      <td>...</td>\n",
       "      <td>...</td>\n",
       "      <td>...</td>\n",
       "      <td>...</td>\n",
       "      <td>...</td>\n",
       "      <td>...</td>\n",
       "      <td>...</td>\n",
       "      <td>...</td>\n",
       "    </tr>\n",
       "    <tr>\n",
       "      <th>9242</th>\n",
       "      <td>1.0</td>\n",
       "      <td>0.000000</td>\n",
       "      <td>549.916667</td>\n",
       "      <td>0.008163</td>\n",
       "      <td>50.0</td>\n",
       "      <td>4.000000</td>\n",
       "      <td>0.000000</td>\n",
       "      <td>1.0</td>\n",
       "      <td>0.0</td>\n",
       "      <td>0.0</td>\n",
       "      <td>...</td>\n",
       "      <td>0.0</td>\n",
       "      <td>0.0</td>\n",
       "      <td>0.0</td>\n",
       "      <td>0.0</td>\n",
       "      <td>0.0</td>\n",
       "      <td>0.0</td>\n",
       "      <td>0.0</td>\n",
       "      <td>0.0</td>\n",
       "      <td>0.0</td>\n",
       "      <td>0.0</td>\n",
       "    </tr>\n",
       "    <tr>\n",
       "      <th>9243</th>\n",
       "      <td>1.0</td>\n",
       "      <td>0.000000</td>\n",
       "      <td>691.000000</td>\n",
       "      <td>0.080000</td>\n",
       "      <td>5.0</td>\n",
       "      <td>0.000000</td>\n",
       "      <td>0.000000</td>\n",
       "      <td>0.0</td>\n",
       "      <td>0.0</td>\n",
       "      <td>0.0</td>\n",
       "      <td>...</td>\n",
       "      <td>0.0</td>\n",
       "      <td>0.0</td>\n",
       "      <td>0.0</td>\n",
       "      <td>0.0</td>\n",
       "      <td>0.0</td>\n",
       "      <td>0.0</td>\n",
       "      <td>1.0</td>\n",
       "      <td>0.0</td>\n",
       "      <td>0.0</td>\n",
       "      <td>0.0</td>\n",
       "    </tr>\n",
       "    <tr>\n",
       "      <th>9244</th>\n",
       "      <td>1.0</td>\n",
       "      <td>3.651726</td>\n",
       "      <td>8217.678753</td>\n",
       "      <td>0.013669</td>\n",
       "      <td>202.0</td>\n",
       "      <td>331.983333</td>\n",
       "      <td>0.001905</td>\n",
       "      <td>13.0</td>\n",
       "      <td>128.0</td>\n",
       "      <td>1.0</td>\n",
       "      <td>...</td>\n",
       "      <td>0.0</td>\n",
       "      <td>0.0</td>\n",
       "      <td>0.0</td>\n",
       "      <td>0.0</td>\n",
       "      <td>0.0</td>\n",
       "      <td>0.0</td>\n",
       "      <td>1.0</td>\n",
       "      <td>1.0</td>\n",
       "      <td>1.0</td>\n",
       "      <td>1.0</td>\n",
       "    </tr>\n",
       "    <tr>\n",
       "      <th>9245</th>\n",
       "      <td>1.0</td>\n",
       "      <td>0.000000</td>\n",
       "      <td>338.583333</td>\n",
       "      <td>0.008696</td>\n",
       "      <td>23.0</td>\n",
       "      <td>0.000000</td>\n",
       "      <td>0.000000</td>\n",
       "      <td>0.0</td>\n",
       "      <td>0.0</td>\n",
       "      <td>1.0</td>\n",
       "      <td>...</td>\n",
       "      <td>0.0</td>\n",
       "      <td>0.0</td>\n",
       "      <td>0.0</td>\n",
       "      <td>0.0</td>\n",
       "      <td>0.0</td>\n",
       "      <td>0.0</td>\n",
       "      <td>1.0</td>\n",
       "      <td>0.0</td>\n",
       "      <td>0.0</td>\n",
       "      <td>0.0</td>\n",
       "    </tr>\n",
       "    <tr>\n",
       "      <th>9246</th>\n",
       "      <td>1.0</td>\n",
       "      <td>0.000000</td>\n",
       "      <td>1738.250000</td>\n",
       "      <td>0.035374</td>\n",
       "      <td>43.0</td>\n",
       "      <td>45.500000</td>\n",
       "      <td>0.006349</td>\n",
       "      <td>3.0</td>\n",
       "      <td>0.0</td>\n",
       "      <td>0.0</td>\n",
       "      <td>...</td>\n",
       "      <td>0.0</td>\n",
       "      <td>0.0</td>\n",
       "      <td>0.0</td>\n",
       "      <td>0.0</td>\n",
       "      <td>0.0</td>\n",
       "      <td>0.0</td>\n",
       "      <td>0.0</td>\n",
       "      <td>0.0</td>\n",
       "      <td>0.0</td>\n",
       "      <td>0.0</td>\n",
       "    </tr>\n",
       "  </tbody>\n",
       "</table>\n",
       "<p>9247 rows × 816 columns</p>\n",
       "</div>"
      ],
      "text/plain": [
       "        1  PageValues  ProductRelated_Duration  ExitRates  ProductRelated  \\\n",
       "0     1.0    0.000000              2622.600281   0.028520            99.0   \n",
       "1     1.0    0.000000              1529.304670   0.009150            28.0   \n",
       "2     1.0    4.667079              3214.020563   0.007724            82.0   \n",
       "3     1.0    0.000000               546.958333   0.033846            13.0   \n",
       "4     1.0    0.000000                 0.000000   0.200000             2.0   \n",
       "...   ...         ...                      ...        ...             ...   \n",
       "9242  1.0    0.000000               549.916667   0.008163            50.0   \n",
       "9243  1.0    0.000000               691.000000   0.080000             5.0   \n",
       "9244  1.0    3.651726              8217.678753   0.013669           202.0   \n",
       "9245  1.0    0.000000               338.583333   0.008696            23.0   \n",
       "9246  1.0    0.000000              1738.250000   0.035374            43.0   \n",
       "\n",
       "      Administrative_Duration  BounceRates  Administrative  \\\n",
       "0                    0.000000     0.022000             0.0   \n",
       "1                  993.000000     0.001481             1.0   \n",
       "2                    0.000000     0.000000             0.0   \n",
       "3                    0.000000     0.000000             0.0   \n",
       "4                    0.000000     0.200000             0.0   \n",
       "...                       ...          ...             ...   \n",
       "9242                 4.000000     0.000000             1.0   \n",
       "9243                 0.000000     0.000000             0.0   \n",
       "9244               331.983333     0.001905            13.0   \n",
       "9245                 0.000000     0.000000             0.0   \n",
       "9246                45.500000     0.006349             3.0   \n",
       "\n",
       "      Informational_Duration  Month_Nov  ...  TrafficType_2^3  \\\n",
       "0                        0.0        1.0  ...              0.0   \n",
       "1                        0.0        0.0  ...              1.0   \n",
       "2                       81.0        0.0  ...              0.0   \n",
       "3                        0.0        0.0  ...              0.0   \n",
       "4                        0.0        0.0  ...              0.0   \n",
       "...                      ...        ...  ...              ...   \n",
       "9242                     0.0        0.0  ...              0.0   \n",
       "9243                     0.0        0.0  ...              0.0   \n",
       "9244                   128.0        1.0  ...              0.0   \n",
       "9245                     0.0        1.0  ...              0.0   \n",
       "9246                     0.0        0.0  ...              0.0   \n",
       "\n",
       "      TrafficType_2^2 Browser_2  TrafficType_2^2 Region_3  \\\n",
       "0                           0.0                       0.0   \n",
       "1                           1.0                       0.0   \n",
       "2                           0.0                       0.0   \n",
       "3                           0.0                       0.0   \n",
       "4                           0.0                       0.0   \n",
       "...                         ...                       ...   \n",
       "9242                        0.0                       0.0   \n",
       "9243                        0.0                       0.0   \n",
       "9244                        0.0                       0.0   \n",
       "9245                        0.0                       0.0   \n",
       "9246                        0.0                       0.0   \n",
       "\n",
       "      TrafficType_2 Browser_2^2  TrafficType_2 Browser_2 Region_3  \\\n",
       "0                           0.0                               0.0   \n",
       "1                           1.0                               0.0   \n",
       "2                           0.0                               0.0   \n",
       "3                           0.0                               0.0   \n",
       "4                           0.0                               0.0   \n",
       "...                         ...                               ...   \n",
       "9242                        0.0                               0.0   \n",
       "9243                        0.0                               0.0   \n",
       "9244                        0.0                               0.0   \n",
       "9245                        0.0                               0.0   \n",
       "9246                        0.0                               0.0   \n",
       "\n",
       "      TrafficType_2 Region_3^2  Browser_2^3  Browser_2^2 Region_3  \\\n",
       "0                          0.0          1.0                   0.0   \n",
       "1                          0.0          1.0                   0.0   \n",
       "2                          0.0          0.0                   0.0   \n",
       "3                          0.0          1.0                   0.0   \n",
       "4                          0.0          1.0                   0.0   \n",
       "...                        ...          ...                   ...   \n",
       "9242                       0.0          0.0                   0.0   \n",
       "9243                       0.0          1.0                   0.0   \n",
       "9244                       0.0          1.0                   1.0   \n",
       "9245                       0.0          1.0                   0.0   \n",
       "9246                       0.0          0.0                   0.0   \n",
       "\n",
       "      Browser_2 Region_3^2  Region_3^3  \n",
       "0                      0.0         0.0  \n",
       "1                      0.0         0.0  \n",
       "2                      0.0         0.0  \n",
       "3                      0.0         0.0  \n",
       "4                      0.0         0.0  \n",
       "...                    ...         ...  \n",
       "9242                   0.0         0.0  \n",
       "9243                   0.0         0.0  \n",
       "9244                   1.0         1.0  \n",
       "9245                   0.0         0.0  \n",
       "9246                   0.0         0.0  \n",
       "\n",
       "[9247 rows x 816 columns]"
      ]
     },
     "execution_count": 20,
     "metadata": {},
     "output_type": "execute_result"
    }
   ],
   "source": [
    "### Creating polynomial features\n",
    "poly_list=forest_importances.nlargest(n=15).index.to_list()\n",
    "\n",
    "from sklearn.preprocessing import PolynomialFeatures\n",
    "trans = PolynomialFeatures(degree=3) #up till x^3\n",
    "X_train_poly = trans.fit_transform(X_train[poly_list])\n",
    "X_test_poly = trans.fit_transform(X_test[poly_list])\n",
    "list_poly_features = trans.get_feature_names_out(poly_list)\n",
    "X_train_poly = pd.DataFrame(X_train_poly, columns=list_poly_features)\n",
    "X_test_poly = pd.DataFrame(X_test_poly, columns=list_poly_features)\n",
    "X_train_poly"
   ]
  },
  {
   "cell_type": "markdown",
   "metadata": {},
   "source": [
    "### Feature Extraction. Identifying 100 most important features for predicition using Random Forest after creating polynomial features"
   ]
  },
  {
   "cell_type": "code",
   "execution_count": 21,
   "metadata": {},
   "outputs": [],
   "source": [
    "rf_poly = RandomForestClassifier(random_state = 0)\n",
    "rf_poly.fit(X_train_poly, y_train)\n",
    "y_pred_rf_poly = rf_poly.predict(X_test_poly)"
   ]
  },
  {
   "cell_type": "code",
   "execution_count": 22,
   "metadata": {},
   "outputs": [
    {
     "name": "stdout",
     "output_type": "stream",
     "text": [
      "PageValues ProductRelated_Duration                    0.032164\n",
      "PageValues^2 ExitRates                                0.029024\n",
      "PageValues ProductRelated                             0.025378\n",
      "PageValues^2 ProductRelated                           0.021577\n",
      "PageValues ProductRelated^2                           0.021554\n",
      "                                                        ...   \n",
      "ExitRates ProductRelated Browser_2                    0.002311\n",
      "ProductRelated_Duration BounceRates Administrative    0.002306\n",
      "ProductRelated BounceRates^2                          0.002271\n",
      "ProductRelated_Duration ProductRelated Month_Nov      0.002233\n",
      "ExitRates Administrative_Duration                     0.002214\n",
      "Length: 100, dtype: float64\n"
     ]
    }
   ],
   "source": [
    "feature_names = X_train_poly.columns\n",
    "\n",
    "importances = rf_poly.feature_importances_\n",
    "std = np.std([tree.feature_importances_ for tree in rf_poly.estimators_], axis=0)\n",
    "forest_importances = pd.Series(importances, index=feature_names)\n",
    "print(forest_importances.nlargest(n=100))"
   ]
  },
  {
   "cell_type": "markdown",
   "metadata": {},
   "source": [
    "### Interpretation\n",
    "Similarly to the analysis on dataset without polynomial features PageValues is the most important predictive features of identifying whether the customer will make a purchase or not."
   ]
  },
  {
   "cell_type": "markdown",
   "metadata": {},
   "source": [
    "### Creating new Training and Test consisting of 100 most important polynomial features"
   ]
  },
  {
   "cell_type": "code",
   "execution_count": 23,
   "metadata": {},
   "outputs": [],
   "source": [
    "poly_list_1=forest_importances.nlargest(n=100).index.to_list()"
   ]
  },
  {
   "cell_type": "code",
   "execution_count": 24,
   "metadata": {},
   "outputs": [],
   "source": [
    "#Redefyning X_train and X_test\n",
    "X_train_1 = X_train_poly[poly_list_1]\n",
    "X_test_1 = X_test_poly[poly_list_1]"
   ]
  },
  {
   "cell_type": "markdown",
   "metadata": {},
   "source": [
    "### Initial Trial of ClassificationModels without data transformation for the benchmark comparison \n",
    "### Original Features vs Polynomial Features"
   ]
  },
  {
   "cell_type": "markdown",
   "metadata": {},
   "source": [
    "### Knn"
   ]
  },
  {
   "cell_type": "code",
   "execution_count": 25,
   "metadata": {},
   "outputs": [
    {
     "name": "stdout",
     "output_type": "stream",
     "text": [
      "{'n_neighbors': 13}\n",
      "0.8478754459941615\n",
      "              precision    recall  f1-score   support\n",
      "\n",
      "           0   0.852089  0.988277  0.915144      2559\n",
      "           1   0.739130  0.162214  0.266041       524\n",
      "\n",
      "    accuracy                       0.847875      3083\n",
      "   macro avg   0.795610  0.575245  0.590592      3083\n",
      "weighted avg   0.832890  0.847875  0.804819      3083\n",
      "\n",
      "[[2529   30]\n",
      " [ 439   85]]\n"
     ]
    }
   ],
   "source": [
    "#Knn on original data\n",
    "param_grid_knn = {'n_neighbors': range(1, 30, 4)}\n",
    "grid_knn = GridSearchCV(KNeighborsClassifier(), param_grid_knn, cv=5)\n",
    "\n",
    "grid_knn.fit(X_train, y_train)\n",
    "print(grid_knn.best_params_)\n",
    "print(grid_knn.score(X_test, y_test))\n",
    "\n",
    "y_pred_knn_0 = grid_knn.predict(X_test)\n",
    "\n",
    "print(classification_report(y_test, y_pred_knn_0, labels=[0, 1], digits=6))\n",
    "print(confusion_matrix(y_test, y_pred_knn_0))"
   ]
  },
  {
   "cell_type": "code",
   "execution_count": 26,
   "metadata": {},
   "outputs": [
    {
     "name": "stdout",
     "output_type": "stream",
     "text": [
      "{'n_neighbors': 5}\n",
      "0.8553357119688615\n",
      "              precision    recall  f1-score   support\n",
      "\n",
      "           0   0.876380  0.961313  0.916884      2559\n",
      "           1   0.641304  0.337786  0.442500       524\n",
      "\n",
      "    accuracy                       0.855336      3083\n",
      "   macro avg   0.758842  0.649550  0.679692      3083\n",
      "weighted avg   0.836426  0.855336  0.836256      3083\n",
      "\n",
      "[[2460   99]\n",
      " [ 347  177]]\n"
     ]
    }
   ],
   "source": [
    "#Knn on polynomial features data\n",
    "param_grid_knn = {'n_neighbors': range(1, 30, 4)}\n",
    "grid_knn = GridSearchCV(KNeighborsClassifier(), param_grid_knn, cv=5)\n",
    "\n",
    "grid_knn.fit(X_train_1, y_train)\n",
    "print(grid_knn.best_params_)\n",
    "print(grid_knn.score(X_test_1, y_test))\n",
    "\n",
    "y_pred_knn_0 = grid_knn.predict(X_test_1)\n",
    "\n",
    "print(classification_report(y_test, y_pred_knn_0, labels=[0, 1], digits=6))\n",
    "print(confusion_matrix(y_test, y_pred_knn_0))"
   ]
  },
  {
   "cell_type": "markdown",
   "metadata": {},
   "source": [
    "##### Comment\n",
    "We observe a better performance measured in F1 score on polynomial features dataset"
   ]
  },
  {
   "cell_type": "markdown",
   "metadata": {},
   "source": [
    "### Logreg"
   ]
  },
  {
   "cell_type": "code",
   "execution_count": 27,
   "metadata": {},
   "outputs": [
    {
     "name": "stdout",
     "output_type": "stream",
     "text": [
      "{'C': 0.64}\n",
      "0.8709049626986701\n",
      "              precision    recall  f1-score   support\n",
      "\n",
      "           0   0.883564  0.972646  0.925967      2559\n",
      "           1   0.736842  0.374046  0.496203       524\n",
      "\n",
      "    accuracy                       0.870905      3083\n",
      "   macro avg   0.810203  0.673346  0.711085      3083\n",
      "weighted avg   0.858627  0.870905  0.852923      3083\n",
      "\n",
      "[[2489   70]\n",
      " [ 328  196]]\n"
     ]
    }
   ],
   "source": [
    "#Logreg based on the original data\n",
    "param_grid_logreg = {'C': np.linspace(0.1, 1, 6)} #Based on Runnning Time\n",
    "grid_logreg = GridSearchCV(LogisticRegression(max_iter=100000, dual=False), param_grid_logreg, cv=5)\n",
    "\n",
    "grid_logreg.fit(X_train, y_train)\n",
    "print(grid_logreg.best_params_)\n",
    "print(grid_logreg.score(X_test, y_test))\n",
    "y_pred_logreg_0 = grid_logreg.predict(X_test)\n",
    "\n",
    "print(classification_report(y_test, y_pred_logreg_0, labels=[0, 1], digits=6))\n",
    "print(confusion_matrix(y_test, y_pred_logreg_0))"
   ]
  },
  {
   "cell_type": "code",
   "execution_count": 28,
   "metadata": {},
   "outputs": [
    {
     "name": "stderr",
     "output_type": "stream",
     "text": [
      "/Users/Daniel/opt/anaconda3/lib/python3.7/site-packages/sklearn/linear_model/_logistic.py:818: ConvergenceWarning: lbfgs failed to converge (status=2):\n",
      "ABNORMAL_TERMINATION_IN_LNSRCH.\n",
      "\n",
      "Increase the number of iterations (max_iter) or scale the data as shown in:\n",
      "    https://scikit-learn.org/stable/modules/preprocessing.html\n",
      "Please also refer to the documentation for alternative solver options:\n",
      "    https://scikit-learn.org/stable/modules/linear_model.html#logistic-regression\n",
      "  extra_warning_msg=_LOGISTIC_SOLVER_CONVERGENCE_MSG,\n",
      "/Users/Daniel/opt/anaconda3/lib/python3.7/site-packages/sklearn/linear_model/_logistic.py:818: ConvergenceWarning: lbfgs failed to converge (status=2):\n",
      "ABNORMAL_TERMINATION_IN_LNSRCH.\n",
      "\n",
      "Increase the number of iterations (max_iter) or scale the data as shown in:\n",
      "    https://scikit-learn.org/stable/modules/preprocessing.html\n",
      "Please also refer to the documentation for alternative solver options:\n",
      "    https://scikit-learn.org/stable/modules/linear_model.html#logistic-regression\n",
      "  extra_warning_msg=_LOGISTIC_SOLVER_CONVERGENCE_MSG,\n",
      "/Users/Daniel/opt/anaconda3/lib/python3.7/site-packages/sklearn/linear_model/_logistic.py:818: ConvergenceWarning: lbfgs failed to converge (status=2):\n",
      "ABNORMAL_TERMINATION_IN_LNSRCH.\n",
      "\n",
      "Increase the number of iterations (max_iter) or scale the data as shown in:\n",
      "    https://scikit-learn.org/stable/modules/preprocessing.html\n",
      "Please also refer to the documentation for alternative solver options:\n",
      "    https://scikit-learn.org/stable/modules/linear_model.html#logistic-regression\n",
      "  extra_warning_msg=_LOGISTIC_SOLVER_CONVERGENCE_MSG,\n",
      "/Users/Daniel/opt/anaconda3/lib/python3.7/site-packages/sklearn/linear_model/_logistic.py:818: ConvergenceWarning: lbfgs failed to converge (status=2):\n",
      "ABNORMAL_TERMINATION_IN_LNSRCH.\n",
      "\n",
      "Increase the number of iterations (max_iter) or scale the data as shown in:\n",
      "    https://scikit-learn.org/stable/modules/preprocessing.html\n",
      "Please also refer to the documentation for alternative solver options:\n",
      "    https://scikit-learn.org/stable/modules/linear_model.html#logistic-regression\n",
      "  extra_warning_msg=_LOGISTIC_SOLVER_CONVERGENCE_MSG,\n",
      "/Users/Daniel/opt/anaconda3/lib/python3.7/site-packages/sklearn/linear_model/_logistic.py:818: ConvergenceWarning: lbfgs failed to converge (status=2):\n",
      "ABNORMAL_TERMINATION_IN_LNSRCH.\n",
      "\n",
      "Increase the number of iterations (max_iter) or scale the data as shown in:\n",
      "    https://scikit-learn.org/stable/modules/preprocessing.html\n",
      "Please also refer to the documentation for alternative solver options:\n",
      "    https://scikit-learn.org/stable/modules/linear_model.html#logistic-regression\n",
      "  extra_warning_msg=_LOGISTIC_SOLVER_CONVERGENCE_MSG,\n",
      "/Users/Daniel/opt/anaconda3/lib/python3.7/site-packages/sklearn/linear_model/_logistic.py:818: ConvergenceWarning: lbfgs failed to converge (status=2):\n",
      "ABNORMAL_TERMINATION_IN_LNSRCH.\n",
      "\n",
      "Increase the number of iterations (max_iter) or scale the data as shown in:\n",
      "    https://scikit-learn.org/stable/modules/preprocessing.html\n",
      "Please also refer to the documentation for alternative solver options:\n",
      "    https://scikit-learn.org/stable/modules/linear_model.html#logistic-regression\n",
      "  extra_warning_msg=_LOGISTIC_SOLVER_CONVERGENCE_MSG,\n"
     ]
    },
    {
     "name": "stdout",
     "output_type": "stream",
     "text": [
      "{'C': 0.1}\n",
      "0.8751216347713267\n",
      "              precision    recall  f1-score   support\n",
      "\n",
      "           0   0.888214  0.971864  0.928158      2559\n",
      "           1   0.745583  0.402672  0.522924       524\n",
      "\n",
      "    accuracy                       0.875122      3083\n",
      "   macro avg   0.816899  0.687268  0.725541      3083\n",
      "weighted avg   0.863972  0.875122  0.859283      3083\n",
      "\n",
      "[[2487   72]\n",
      " [ 313  211]]\n"
     ]
    }
   ],
   "source": [
    "#Logreg on the polynomial features\n",
    "param_grid_logreg = {'C': np.linspace(0.1, 1, 6)} #Based on Runnning Time\n",
    "grid_logreg = GridSearchCV(LogisticRegression(max_iter=100000000, dual=False), param_grid_logreg, cv=5)\n",
    "\n",
    "grid_logreg.fit(X_train_1, y_train)\n",
    "print(grid_logreg.best_params_)\n",
    "print(grid_logreg.score(X_test_1, y_test))\n",
    "y_pred_logreg_0 = grid_logreg.predict(X_test_1)\n",
    "\n",
    "print(classification_report(y_test, y_pred_logreg_0, labels=[0, 1], digits=6))\n",
    "print(confusion_matrix(y_test, y_pred_logreg_0))"
   ]
  },
  {
   "cell_type": "markdown",
   "metadata": {},
   "source": [
    "##### Comment\n",
    "We observe a better performance measured in F1 score on polynomial features dataset"
   ]
  },
  {
   "cell_type": "markdown",
   "metadata": {},
   "source": [
    "### SVM"
   ]
  },
  {
   "cell_type": "code",
   "execution_count": 29,
   "metadata": {},
   "outputs": [
    {
     "name": "stdout",
     "output_type": "stream",
     "text": [
      "{'C': 4.6}\n",
      "0.8657152124554006\n",
      "              precision    recall  f1-score   support\n",
      "\n",
      "           0   0.874346  0.978898  0.923673      2559\n",
      "           1   0.752294  0.312977  0.442049       524\n",
      "\n",
      "    accuracy                       0.865715      3083\n",
      "   macro avg   0.813320  0.645938  0.682861      3083\n",
      "weighted avg   0.853601  0.865715  0.841814      3083\n",
      "\n",
      "[[2505   54]\n",
      " [ 360  164]]\n"
     ]
    }
   ],
   "source": [
    "#SVM on original data\n",
    "param_grid_svc = {'C': np.linspace(1, 10, 6)}\n",
    "grid_svc = GridSearchCV(LinearSVC(max_iter=1000, dual=False), param_grid_svc, cv=5)\n",
    "\n",
    "grid_svc.fit(X_train, y_train)\n",
    "print(grid_svc.best_params_)\n",
    "print(grid_svc.score(X_test, y_test))\n",
    "y_pred_svm_0 = grid_svc.predict(X_test)\n",
    "\n",
    "print(classification_report(y_test, y_pred_svm_0, labels=[0, 1], digits=6))\n",
    "print(confusion_matrix(y_test, y_pred_svm_0))"
   ]
  },
  {
   "cell_type": "code",
   "execution_count": 30,
   "metadata": {},
   "outputs": [
    {
     "name": "stdout",
     "output_type": "stream",
     "text": [
      "{'C': 4.6}\n",
      "0.8773921505027571\n",
      "              precision    recall  f1-score   support\n",
      "\n",
      "           0   0.890720  0.971473  0.929346      2559\n",
      "           1   0.750000  0.417939  0.536765       524\n",
      "\n",
      "    accuracy                       0.877392      3083\n",
      "   macro avg   0.820360  0.694706  0.733055      3083\n",
      "weighted avg   0.866803  0.877392  0.862621      3083\n",
      "\n",
      "[[2486   73]\n",
      " [ 305  219]]\n"
     ]
    }
   ],
   "source": [
    "#SVM on polynomial data\n",
    "param_grid_svc = {'C': np.linspace(1, 10, 6)}\n",
    "grid_svc = GridSearchCV(LinearSVC(max_iter=1000, dual=False), param_grid_svc, cv=5)\n",
    "\n",
    "grid_svc.fit(X_train_1, y_train)\n",
    "print(grid_svc.best_params_)\n",
    "print(grid_svc.score(X_test_1, y_test))\n",
    "y_pred_svm_0 = grid_svc.predict(X_test_1)\n",
    "\n",
    "print(classification_report(y_test, y_pred_svm_0, labels=[0, 1], digits=6))\n",
    "print(confusion_matrix(y_test, y_pred_svm_0))"
   ]
  },
  {
   "cell_type": "markdown",
   "metadata": {},
   "source": [
    "##### Comment\n",
    "We observe a better performance for SVM as well measured in F1 score on polynomial features dataset"
   ]
  },
  {
   "cell_type": "markdown",
   "metadata": {},
   "source": [
    "### Random Forest"
   ]
  },
  {
   "cell_type": "code",
   "execution_count": 31,
   "metadata": {},
   "outputs": [
    {
     "name": "stdout",
     "output_type": "stream",
     "text": [
      "{'max_features': 14}\n",
      "0.8910152448913397\n",
      "              precision    recall  f1-score   support\n",
      "\n",
      "           0   0.912737  0.960531  0.936024      2559\n",
      "           1   0.741026  0.551527  0.632385       524\n",
      "\n",
      "    accuracy                       0.891015      3083\n",
      "   macro avg   0.826881  0.756029  0.784205      3083\n",
      "weighted avg   0.883552  0.891015  0.884417      3083\n",
      "\n"
     ]
    },
    {
     "data": {
      "text/plain": [
       "array([[2458,  101],\n",
       "       [ 235,  289]])"
      ]
     },
     "execution_count": 31,
     "metadata": {},
     "output_type": "execute_result"
    }
   ],
   "source": [
    "#Random forest on original data\n",
    "grid_rf = {'max_features': np.arange(1,15)} \n",
    "grid2 = GridSearchCV(RandomForestClassifier(random_state = 0), param_grid = grid_rf, cv=5)\n",
    "grid2.fit(X_train, y_train) \n",
    "\n",
    "print(grid2.best_params_)\n",
    "print(grid2.score(X_test, y_test))\n",
    "y_pred_rf = grid2.predict(X_test)\n",
    "\n",
    "print(classification_report(y_test, y_pred_rf, labels=[0, 1], digits=6))\n",
    "confusion_matrix(y_test, y_pred_rf)\n"
   ]
  },
  {
   "cell_type": "code",
   "execution_count": 32,
   "metadata": {},
   "outputs": [
    {
     "name": "stdout",
     "output_type": "stream",
     "text": [
      "{'max_features': 4}\n",
      "0.8955562763542004\n",
      "              precision    recall  f1-score   support\n",
      "\n",
      "           0   0.919700  0.957796  0.938361      2559\n",
      "           1   0.741627  0.591603  0.658174       524\n",
      "\n",
      "    accuracy                       0.895556      3083\n",
      "   macro avg   0.830663  0.774700  0.798268      3083\n",
      "weighted avg   0.889434  0.895556  0.890740      3083\n",
      "\n"
     ]
    },
    {
     "data": {
      "text/plain": [
       "array([[2451,  108],\n",
       "       [ 214,  310]])"
      ]
     },
     "execution_count": 32,
     "metadata": {},
     "output_type": "execute_result"
    }
   ],
   "source": [
    "#Random forest on polynomial data\n",
    "grid_rf = {'max_features': np.arange(1,15)} \n",
    "grid2 = GridSearchCV(RandomForestClassifier(random_state = 0), param_grid = grid_rf, cv=5)\n",
    "grid2.fit(X_train_1, y_train) \n",
    "\n",
    "print(grid2.best_params_)\n",
    "print(grid2.score(X_test_1, y_test))\n",
    "y_pred_rf = grid2.predict(X_test_1)\n",
    "\n",
    "print(classification_report(y_test, y_pred_rf, labels=[0, 1], digits=6))\n",
    "confusion_matrix(y_test, y_pred_rf)\n"
   ]
  },
  {
   "cell_type": "markdown",
   "metadata": {},
   "source": [
    "##### Comment\n",
    "We observe a better performance measured in F1 score on polynomial features dataset for Random Forest having common trend among all models"
   ]
  },
  {
   "cell_type": "markdown",
   "metadata": {},
   "source": [
    "### Dealing with the DataImbalcne and prerforming data transformation using MinMaxScaler\n"
   ]
  },
  {
   "cell_type": "markdown",
   "metadata": {},
   "source": [
    "### Knn"
   ]
  },
  {
   "cell_type": "code",
   "execution_count": 33,
   "metadata": {},
   "outputs": [
    {
     "name": "stdout",
     "output_type": "stream",
     "text": [
      "{'kneighborsclassifier__n_neighbors': 29}\n",
      "0.8070061628284139\n",
      "              precision    recall  f1-score   support\n",
      "\n",
      "           0   0.867790  0.905432  0.886212      2559\n",
      "           1   0.414044  0.326336  0.364995       524\n",
      "\n",
      "    accuracy                       0.807006      3083\n",
      "   macro avg   0.640917  0.615884  0.625603      3083\n",
      "weighted avg   0.790670  0.807006  0.797623      3083\n",
      "\n"
     ]
    },
    {
     "data": {
      "text/plain": [
       "array([[2317,  242],\n",
       "       [ 353,  171]])"
      ]
     },
     "execution_count": 33,
     "metadata": {},
     "output_type": "execute_result"
    }
   ],
   "source": [
    "#Original data\n",
    "knn_pipe_mm_en_o = make_pipeline(MinMaxScaler(),\n",
    "    EditedNearestNeighbours(n_neighbors=5),\n",
    "     KNeighborsClassifier())\n",
    "\n",
    "param_grid_mm_en_o = {'kneighborsclassifier__n_neighbors': range(1, 30, 4)}\n",
    "grid_knn_mm_en_o = GridSearchCV(knn_pipe_mm_en_o, param_grid_mm_en_o, cv=5)\n",
    "\n",
    "grid_knn_mm_en_o.fit(X_train, y_train)\n",
    "\n",
    "print(grid_knn_mm_en_o.best_params_)\n",
    "print(grid_knn_mm_en_o.score(X_test, y_test))\n",
    "y_pred_knn_mm_en_o = grid_knn_mm_en_o.predict(X_test)\n",
    "\n",
    "print(classification_report(y_test, y_pred_knn_mm_en_o, labels=[0, 1], digits=6))\n",
    "confusion_matrix(y_test, y_pred_knn_mm_en_o)"
   ]
  },
  {
   "cell_type": "code",
   "execution_count": 34,
   "metadata": {},
   "outputs": [
    {
     "name": "stdout",
     "output_type": "stream",
     "text": [
      "{'kneighborsclassifier__n_neighbors': 21}\n",
      "0.8692831657476484\n",
      "              precision    recall  f1-score   support\n",
      "\n",
      "           0   0.932584  0.908167  0.920214      2559\n",
      "           1   0.602369  0.679389  0.638565       524\n",
      "\n",
      "    accuracy                       0.869283      3083\n",
      "   macro avg   0.767477  0.793778  0.779389      3083\n",
      "weighted avg   0.876459  0.869283  0.872344      3083\n",
      "\n"
     ]
    },
    {
     "data": {
      "text/plain": [
       "array([[2324,  235],\n",
       "       [ 168,  356]])"
      ]
     },
     "execution_count": 34,
     "metadata": {},
     "output_type": "execute_result"
    }
   ],
   "source": [
    "#Polynomial data\n",
    "\n",
    "knn_pipe_mm_en = make_pipeline(MinMaxScaler(),\n",
    "    EditedNearestNeighbours(n_neighbors=5),\n",
    "     KNeighborsClassifier())\n",
    "\n",
    "param_grid_mm_en = {'kneighborsclassifier__n_neighbors': range(1, 30, 4)}\n",
    "grid_knn_mm_en = GridSearchCV(knn_pipe_mm_en, param_grid_mm_en, cv=5)\n",
    "\n",
    "grid_knn_mm_en.fit(X_train_1, y_train)\n",
    "\n",
    "print(grid_knn_mm_en.best_params_)\n",
    "print(grid_knn_mm_en.score(X_test_1, y_test))\n",
    "y_pred_knn_mm_en = grid_knn_mm_en.predict(X_test_1)\n",
    "\n",
    "print(classification_report(y_test, y_pred_knn_mm_en, labels=[0, 1], digits=6))\n",
    "confusion_matrix(y_test, y_pred_knn_mm_en)"
   ]
  },
  {
   "cell_type": "markdown",
   "metadata": {},
   "source": [
    "### Logreg"
   ]
  },
  {
   "cell_type": "code",
   "execution_count": 35,
   "metadata": {},
   "outputs": [
    {
     "name": "stdout",
     "output_type": "stream",
     "text": [
      "{'logisticregression__C': 640.0}\n",
      "0.8676613687966267\n",
      "              precision    recall  f1-score   support\n",
      "\n",
      "           0   0.921599  0.918718  0.920157      2559\n",
      "           1   0.609023  0.618321  0.613636       524\n",
      "\n",
      "    accuracy                       0.867661      3083\n",
      "   macro avg   0.765311  0.768519  0.766896      3083\n",
      "weighted avg   0.868472  0.867661  0.868059      3083\n",
      "\n"
     ]
    },
    {
     "data": {
      "text/plain": [
       "array([[2351,  208],\n",
       "       [ 200,  324]])"
      ]
     },
     "execution_count": 35,
     "metadata": {},
     "output_type": "execute_result"
    }
   ],
   "source": [
    "#Original data\n",
    "logreg_pipe_mm_en_o = make_pipeline(MinMaxScaler(),\n",
    "    EditedNearestNeighbours(n_neighbors=5),\n",
    "     LogisticRegression(max_iter=10000, dual=False))\n",
    "\n",
    "param_grid_mm_en_1_o = {'logisticregression__C': np.linspace(100, 1000, 6)}\n",
    "grid_logreg_mm_en_o = GridSearchCV(logreg_pipe_mm_en_o, param_grid_mm_en_1_o, cv=5)\n",
    "\n",
    "grid_logreg_mm_en_o.fit(X_train, y_train)\n",
    "\n",
    "print(grid_logreg_mm_en_o.best_params_)\n",
    "print(grid_logreg_mm_en_o.score(X_test, y_test))\n",
    "y_pred_logreg_mm_en_o = grid_logreg_mm_en_o.predict(X_test)\n",
    "\n",
    "print(classification_report(y_test, y_pred_logreg_mm_en_o, labels=[0, 1], digits=6))\n",
    "confusion_matrix(y_test, y_pred_logreg_mm_en_o)"
   ]
  },
  {
   "cell_type": "code",
   "execution_count": 36,
   "metadata": {},
   "outputs": [
    {
     "name": "stdout",
     "output_type": "stream",
     "text": [
      "{'logisticregression__C': 40.6}\n",
      "0.8751216347713267\n",
      "              precision    recall  f1-score   support\n",
      "\n",
      "           0   0.941153  0.906213  0.923353      2559\n",
      "           1   0.612278  0.723282  0.663167       524\n",
      "\n",
      "    accuracy                       0.875122      3083\n",
      "   macro avg   0.776715  0.814748  0.793260      3083\n",
      "weighted avg   0.885256  0.875122  0.879130      3083\n",
      "\n"
     ]
    },
    {
     "data": {
      "text/plain": [
       "array([[2319,  240],\n",
       "       [ 145,  379]])"
      ]
     },
     "execution_count": 36,
     "metadata": {},
     "output_type": "execute_result"
    }
   ],
   "source": [
    "#Polynomial data\n",
    "#Logistic Regression\n",
    "logreg_pipe_mm_en = make_pipeline(MinMaxScaler(),\n",
    "    EditedNearestNeighbours(n_neighbors=5),\n",
    "     LogisticRegression(max_iter=10000, dual=False))\n",
    "\n",
    "param_grid_mm_en_1 = {'logisticregression__C': np.linspace(1, 100, 6)}\n",
    "grid_logreg_mm_en = GridSearchCV(logreg_pipe_mm_en, param_grid_mm_en_1, cv=5)\n",
    "\n",
    "grid_logreg_mm_en.fit(X_train_1, y_train)\n",
    "\n",
    "print(grid_logreg_mm_en.best_params_)\n",
    "print(grid_logreg_mm_en.score(X_test_1, y_test))\n",
    "y_pred_logreg_mm_en = grid_logreg_mm_en.predict(X_test_1)\n",
    "\n",
    "print(classification_report(y_test, y_pred_logreg_mm_en, labels=[0, 1], digits=6))\n",
    "confusion_matrix(y_test, y_pred_logreg_mm_en)"
   ]
  },
  {
   "cell_type": "markdown",
   "metadata": {},
   "source": [
    "### SVM"
   ]
  },
  {
   "cell_type": "code",
   "execution_count": 37,
   "metadata": {},
   "outputs": [
    {
     "name": "stdout",
     "output_type": "stream",
     "text": [
      "{'linearsvc__C': 800.2}\n",
      "0.8757703535517353\n",
      "              precision    recall  f1-score   support\n",
      "\n",
      "           0   0.917498  0.934349  0.925847      2559\n",
      "           1   0.647799  0.589695  0.617383       524\n",
      "\n",
      "    accuracy                       0.875770      3083\n",
      "   macro avg   0.782648  0.762022  0.771615      3083\n",
      "weighted avg   0.871659  0.875770  0.873419      3083\n",
      "\n"
     ]
    },
    {
     "data": {
      "text/plain": [
       "array([[2391,  168],\n",
       "       [ 215,  309]])"
      ]
     },
     "execution_count": 37,
     "metadata": {},
     "output_type": "execute_result"
    }
   ],
   "source": [
    "#Original data\n",
    "svm_pipe_mm_en_o = make_pipeline(MinMaxScaler(),\n",
    "    EditedNearestNeighbours(n_neighbors=5),\n",
    "     LinearSVC(max_iter=10000, dual=False))\n",
    "\n",
    "param_grid_mm_en_2_o = {'linearsvc__C': np.linspace(1, 1000, 6)}\n",
    "grid_svm_mm_en_o = GridSearchCV(svm_pipe_mm_en_o, param_grid_mm_en_2_o, cv=5)\n",
    "\n",
    "grid_svm_mm_en_o.fit(X_train, y_train)\n",
    "\n",
    "print(grid_svm_mm_en_o.best_params_)\n",
    "print(grid_svm_mm_en_o.score(X_test, y_test))\n",
    "y_pred_svm_mm_en_o = grid_svm_mm_en_o.predict(X_test)\n",
    "\n",
    "print(classification_report(y_test, y_pred_svm_mm_en_o, labels=[0, 1], digits=6))\n",
    "confusion_matrix(y_test, y_pred_svm_mm_en_o)"
   ]
  },
  {
   "cell_type": "code",
   "execution_count": 38,
   "metadata": {},
   "outputs": [
    {
     "name": "stdout",
     "output_type": "stream",
     "text": [
      "{'linearsvc__C': 400.6}\n",
      "0.8725267596496918\n",
      "              precision    recall  f1-score   support\n",
      "\n",
      "           0   0.944947  0.898789  0.921290      2559\n",
      "           1   0.600924  0.744275  0.664962       524\n",
      "\n",
      "    accuracy                       0.872527      3083\n",
      "   macro avg   0.772936  0.821532  0.793126      3083\n",
      "weighted avg   0.886475  0.872527  0.877723      3083\n",
      "\n"
     ]
    },
    {
     "data": {
      "text/plain": [
       "array([[2300,  259],\n",
       "       [ 134,  390]])"
      ]
     },
     "execution_count": 38,
     "metadata": {},
     "output_type": "execute_result"
    }
   ],
   "source": [
    "#Polynomial data\n",
    "#LinearSVC\n",
    "svm_pipe_mm_en = make_pipeline(MinMaxScaler(),\n",
    "    EditedNearestNeighbours(n_neighbors=5),\n",
    "     LinearSVC(max_iter=10000, dual=False))\n",
    "\n",
    "param_grid_mm_en_2 = {'linearsvc__C': np.linspace(1, 1000, 6)}\n",
    "grid_svm_mm_en = GridSearchCV(svm_pipe_mm_en, param_grid_mm_en_2, cv=5)\n",
    "\n",
    "grid_svm_mm_en.fit(X_train_1, y_train)\n",
    "\n",
    "print(grid_svm_mm_en.best_params_)\n",
    "print(grid_svm_mm_en.score(X_test_1, y_test))\n",
    "y_pred_svm_mm_en = grid_svm_mm_en.predict(X_test_1)\n",
    "\n",
    "print(classification_report(y_test, y_pred_svm_mm_en, labels=[0, 1], digits=6))\n",
    "confusion_matrix(y_test, y_pred_svm_mm_en)"
   ]
  },
  {
   "cell_type": "markdown",
   "metadata": {},
   "source": [
    "### Random Forest"
   ]
  },
  {
   "cell_type": "code",
   "execution_count": 39,
   "metadata": {},
   "outputs": [
    {
     "name": "stdout",
     "output_type": "stream",
     "text": [
      "{'randomforestclassifier__max_depth': 8}\n",
      "0.8835549789166396\n",
      "              precision    recall  f1-score   support\n",
      "\n",
      "           0   0.925367  0.935131  0.930224      2559\n",
      "           1   0.665996  0.631679  0.648384       524\n",
      "\n",
      "    accuracy                       0.883555      3083\n",
      "   macro avg   0.795682  0.783405  0.789304      3083\n",
      "weighted avg   0.881283  0.883555  0.882321      3083\n",
      "\n"
     ]
    },
    {
     "data": {
      "text/plain": [
       "array([[2393,  166],\n",
       "       [ 193,  331]])"
      ]
     },
     "execution_count": 39,
     "metadata": {},
     "output_type": "execute_result"
    }
   ],
   "source": [
    "#Original data\n",
    "rf_pipe_mm_en_o = make_pipeline(MinMaxScaler(),\n",
    "    EditedNearestNeighbours(n_neighbors=5),\n",
    "     RandomForestClassifier(random_state = 0, max_features=6))\n",
    "\n",
    "param_grid_mm_en_4_o = {'randomforestclassifier__max_depth': [6,7,8]}\n",
    "grid_rf_mm_en_oo = GridSearchCV(rf_pipe_mm_en_o, param_grid_mm_en_4_o, cv=5)\n",
    "\n",
    "grid_rf_mm_en_oo.fit(X_train, y_train)\n",
    "\n",
    "print(grid_rf_mm_en_oo.best_params_)\n",
    "print(grid_rf_mm_en_oo.score(X_test, y_test))\n",
    "y_pred_rf_mm_en_oo = grid_rf_mm_en_oo.predict(X_test)\n",
    "\n",
    "print(classification_report(y_test, y_pred_rf_mm_en_oo, labels=[0, 1], digits=6))\n",
    "confusion_matrix(y_test, y_pred_rf_mm_en_oo)"
   ]
  },
  {
   "cell_type": "code",
   "execution_count": 40,
   "metadata": {},
   "outputs": [
    {
     "name": "stdout",
     "output_type": "stream",
     "text": [
      "{'randomforestclassifier__max_depth': 7}\n",
      "0.8744729159909179\n",
      "              precision    recall  f1-score   support\n",
      "\n",
      "           0   0.954013  0.891755  0.921834      2559\n",
      "           1   0.599132  0.790076  0.681481       524\n",
      "\n",
      "    accuracy                       0.874473      3083\n",
      "   macro avg   0.776573  0.840915  0.801658      3083\n",
      "weighted avg   0.893696  0.874473  0.880983      3083\n",
      "\n"
     ]
    },
    {
     "data": {
      "text/plain": [
       "array([[2282,  277],\n",
       "       [ 110,  414]])"
      ]
     },
     "execution_count": 40,
     "metadata": {},
     "output_type": "execute_result"
    }
   ],
   "source": [
    "#Polynomial data\n",
    "#Random Forest\n",
    "rf_pipe_mm_en = make_pipeline(MinMaxScaler(),\n",
    "    EditedNearestNeighbours(n_neighbors=5),\n",
    "     RandomForestClassifier(random_state = 0, max_features=4))\n",
    "\n",
    "param_grid_mm_en_4 = {'randomforestclassifier__max_depth': [6,7,8]}\n",
    "grid_rf_mm_en = GridSearchCV(rf_pipe_mm_en, param_grid_mm_en_4, cv=5)\n",
    "\n",
    "grid_rf_mm_en.fit(X_train_1, y_train)\n",
    "\n",
    "print(grid_rf_mm_en.best_params_)\n",
    "print(grid_rf_mm_en.score(X_test_1, y_test))\n",
    "y_pred_rf_mm_en = grid_rf_mm_en.predict(X_test_1)\n",
    "\n",
    "print(classification_report(y_test, y_pred_rf_mm_en, labels=[0, 1], digits=6))\n",
    "confusion_matrix(y_test, y_pred_rf_mm_en)"
   ]
  },
  {
   "cell_type": "markdown",
   "metadata": {},
   "source": [
    "### Trying additional models - LGBM and MLP classifier"
   ]
  },
  {
   "cell_type": "markdown",
   "metadata": {},
   "source": [
    "### LGBM\n",
    "Can not do gridsearch due to too high computation cost (Kernel dies) - through we might expect it to perofrm even better, this is a limitation of our future and should be a further direction for future work."
   ]
  },
  {
   "cell_type": "code",
   "execution_count": 41,
   "metadata": {},
   "outputs": [
    {
     "name": "stdout",
     "output_type": "stream",
     "text": [
      "              precision    recall  f1-score   support\n",
      "\n",
      "           0   0.950499  0.892927  0.920814      2559\n",
      "           1   0.596465  0.772901  0.673317       524\n",
      "\n",
      "    accuracy                       0.872527      3083\n",
      "   macro avg   0.773482  0.832914  0.797065      3083\n",
      "weighted avg   0.890326  0.872527  0.878748      3083\n",
      "\n"
     ]
    },
    {
     "data": {
      "text/plain": [
       "array([[2285,  274],\n",
       "       [ 119,  405]])"
      ]
     },
     "execution_count": 41,
     "metadata": {},
     "output_type": "execute_result"
    }
   ],
   "source": [
    "#On original dataset\n",
    "import lightgbm as lgb\n",
    "clf_lgb = lgb.LGBMClassifier(random_state=0, class_weight='balanced')\n",
    "clf_lgb.fit(X_train, y_train)\n",
    "y_pred_clf_lgb = clf_lgb.predict(X_test)\n",
    "\n",
    "print(classification_report(y_test, y_pred_clf_lgb, labels=[0, 1], digits=6))\n",
    "confusion_matrix(y_test, y_pred_clf_lgb)\n",
    "\n"
   ]
  },
  {
   "cell_type": "code",
   "execution_count": 42,
   "metadata": {},
   "outputs": [
    {
     "name": "stdout",
     "output_type": "stream",
     "text": [
      "              precision    recall  f1-score   support\n",
      "\n",
      "           0   0.943673  0.903478  0.923138      2559\n",
      "           1   0.609795  0.736641  0.667243       524\n",
      "\n",
      "    accuracy                       0.875122      3083\n",
      "   macro avg   0.776734  0.820060  0.795191      3083\n",
      "weighted avg   0.886926  0.875122  0.879645      3083\n",
      "\n"
     ]
    },
    {
     "data": {
      "text/plain": [
       "array([[2312,  247],\n",
       "       [ 138,  386]])"
      ]
     },
     "execution_count": 42,
     "metadata": {},
     "output_type": "execute_result"
    }
   ],
   "source": [
    "# On Plynomial Dataset\n",
    "clf_lgb = lgb.LGBMClassifier(random_state=0, class_weight='balanced')\n",
    "clf_lgb.fit(X_train_1, y_train)\n",
    "y_pred_clf_lgb = clf_lgb.predict(X_test_1)\n",
    "\n",
    "print(classification_report(y_test, y_pred_clf_lgb, labels=[0, 1], digits=6))\n",
    "confusion_matrix(y_test, y_pred_clf_lgb)"
   ]
  },
  {
   "cell_type": "markdown",
   "metadata": {},
   "source": [
    "##### Comments:\n",
    "In terms of F1 score performs close to Random Forest, however performance on the original features for LGBM is better than on polynomial features."
   ]
  },
  {
   "cell_type": "markdown",
   "metadata": {},
   "source": [
    "### MLP Classifier"
   ]
  },
  {
   "cell_type": "markdown",
   "metadata": {},
   "source": [
    "No dealing with unbalanced data and not applying normalization becuase of computatinal costs. Future research should consider tuning this model to extend the sucess of original paper work on analyzed dataset."
   ]
  },
  {
   "cell_type": "code",
   "execution_count": 43,
   "metadata": {},
   "outputs": [
    {
     "name": "stdout",
     "output_type": "stream",
     "text": [
      "{'alpha': 722.2222222222222}\n",
      "0.6162828413882582\n",
      "              precision    recall  f1-score   support\n",
      "\n",
      "           0   0.900466  0.604533  0.723404      2559\n",
      "           1   0.258608  0.673664  0.373743       524\n",
      "\n",
      "    accuracy                       0.616283      3083\n",
      "   macro avg   0.579537  0.639099  0.548573      3083\n",
      "weighted avg   0.791373  0.616283  0.663974      3083\n",
      "\n"
     ]
    },
    {
     "data": {
      "text/plain": [
       "array([[1547, 1012],\n",
       "       [ 171,  353]])"
      ]
     },
     "execution_count": 43,
     "metadata": {},
     "output_type": "execute_result"
    }
   ],
   "source": [
    "#On the polynomial features\n",
    "\n",
    "param_grid_mm_en_mlp = {'alpha': np.linspace(700, 800, 10)}\n",
    "grid_mlp_mm_en = GridSearchCV(MLPClassifier(random_state=0, max_iter=1000), param_grid_mm_en_mlp, cv=5)\n",
    "\n",
    "grid_mlp_mm_en.fit(X_train_1, y_train)\n",
    "\n",
    "print(grid_mlp_mm_en.best_params_)\n",
    "print(grid_mlp_mm_en.score(X_test_1, y_test))\n",
    "y_pred_mlp = grid_mlp_mm_en.predict(X_test_1)\n",
    "\n",
    "print(classification_report(y_test, y_pred_mlp, labels=[0, 1], digits=6))\n",
    "confusion_matrix(y_test, y_pred_mlp)"
   ]
  },
  {
   "cell_type": "code",
   "execution_count": 44,
   "metadata": {},
   "outputs": [
    {
     "name": "stdout",
     "output_type": "stream",
     "text": [
      "{'alpha': 1.1115555555555554}\n",
      "0.785598443074927\n",
      "              precision    recall  f1-score   support\n",
      "\n",
      "           0   0.952767  0.780383  0.858002      2559\n",
      "           1   0.430598  0.811069  0.562541       524\n",
      "\n",
      "    accuracy                       0.785598      3083\n",
      "   macro avg   0.691682  0.795726  0.710272      3083\n",
      "weighted avg   0.864017  0.785598  0.807784      3083\n",
      "\n"
     ]
    },
    {
     "data": {
      "text/plain": [
       "array([[1997,  562],\n",
       "       [  99,  425]])"
      ]
     },
     "execution_count": 44,
     "metadata": {},
     "output_type": "execute_result"
    }
   ],
   "source": [
    "#On the original features\n",
    "\n",
    "param_grid_mm_en_mlp_or = {'alpha': np.linspace(0.001, 2, 10)}\n",
    "grid_mlp_mm_en_or = GridSearchCV(MLPClassifier(random_state=0, max_iter=1000), param_grid_mm_en_mlp_or, cv=5)\n",
    "\n",
    "grid_mlp_mm_en_or.fit(X_train, y_train)\n",
    "\n",
    "print(grid_mlp_mm_en_or.best_params_)\n",
    "print(grid_mlp_mm_en_or.score(X_test, y_test))\n",
    "y_pred_mlp_or = grid_mlp_mm_en_or.predict(X_test)\n",
    "\n",
    "print(classification_report(y_test, y_pred_mlp_or, labels=[0, 1], digits=6))\n",
    "confusion_matrix(y_test, y_pred_mlp_or)"
   ]
  },
  {
   "cell_type": "code",
   "execution_count": null,
   "metadata": {},
   "outputs": [],
   "source": []
  }
 ],
 "metadata": {
  "kernelspec": {
   "display_name": "Python 3",
   "language": "python",
   "name": "python3"
  },
  "language_info": {
   "codemirror_mode": {
    "name": "ipython",
    "version": 3
   },
   "file_extension": ".py",
   "mimetype": "text/x-python",
   "name": "python",
   "nbconvert_exporter": "python",
   "pygments_lexer": "ipython3",
   "version": "3.7.6"
  }
 },
 "nbformat": 4,
 "nbformat_minor": 4
}
